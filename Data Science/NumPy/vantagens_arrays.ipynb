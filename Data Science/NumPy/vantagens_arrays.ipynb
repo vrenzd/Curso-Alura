{
 "cells": [
  {
   "cell_type": "code",
   "execution_count": null,
   "id": "37b92403",
   "metadata": {},
   "outputs": [
    {
     "name": "stdout",
     "output_type": "stream",
     "text": [
      "Lista:  [1, 2, 3, 4, 5]\n",
      "Array:  [1 2 3 4 5]\n"
     ]
    }
   ],
   "source": [
    "# transforma uma lista em um array Numpy\n",
    "\n",
    "import numpy as np\n",
    "\n",
    "# cria uma lista\n",
    "lista = [1, 2, 3, 4, 5]\n",
    "\n",
    "# transforma a lista em um array Numpy\n",
    "array = np.array(lista)\n",
    "\n",
    "print(\"Lista: \", lista)\n",
    "print(\"Array: \", array)"
   ]
  },
  {
   "cell_type": "markdown",
   "id": "3cb16a8c",
   "metadata": {},
   "source": [
    "### Comparativo de performance: listas vs arrays\n",
    "\n",
    "Focando na eficiência, podemos comparar o tempo levado para efetuar um cálculo utilizando listas e arrays."
   ]
  },
  {
   "cell_type": "code",
   "execution_count": 2,
   "id": "b63303ec",
   "metadata": {},
   "outputs": [
    {
     "name": "stdout",
     "output_type": "stream",
     "text": [
      "Tempo da operação com a lista:  0.1248176097869873\n",
      "Tempo da operação com o array:  0.004571676254272461\n"
     ]
    }
   ],
   "source": [
    "import time\n",
    "\n",
    "# cria uma lista com 1000000 elementos\n",
    "lista = list(range(1000000))\n",
    "\n",
    "# transforma a lista em um array Numpy\n",
    "array = np.array(lista)\n",
    "\n",
    "# começa a cronometrar o tempo para a operação com a lista\n",
    "start_time = time.time()\n",
    "\n",
    "# realiza a operação de elevar ao quadrado cada elemento da lista\n",
    "lista_quadrado = [i**2 for i in lista]\n",
    "\n",
    "# para o cronômetro\n",
    "list_time = time.time() - start_time\n",
    "\n",
    "# começa a cronometrar o tempo para a operação com o array\n",
    "start_time = time.time()\n",
    "\n",
    "# realiza a operação de elevar ao quadrado cada elemento do array\n",
    "array_quadrado = array**2\n",
    "\n",
    "# para o cronômetro\n",
    "array_time = time.time() - start_time\n",
    "\n",
    "print(\"Tempo da operação com a lista: \", list_time)\n",
    "print(\"Tempo da operação com o array: \", array_time)"
   ]
  }
 ],
 "metadata": {
  "kernelspec": {
   "display_name": "Python 3",
   "language": "python",
   "name": "python3"
  },
  "language_info": {
   "codemirror_mode": {
    "name": "ipython",
    "version": 3
   },
   "file_extension": ".py",
   "mimetype": "text/x-python",
   "name": "python",
   "nbconvert_exporter": "python",
   "pygments_lexer": "ipython3",
   "version": "3.13.3"
  }
 },
 "nbformat": 4,
 "nbformat_minor": 5
}
