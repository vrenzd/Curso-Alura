{
 "cells": [
  {
   "cell_type": "markdown",
   "metadata": {
    "id": "_kwAaQ36gLQ1"
   },
   "source": [
    "# Sobre o notebook\n",
    "\n",
    "A \"hora da prática\" é uma atividade do curso de Python para Data Science da Alura que contém diversos desafios envolvendo os aprendizados de cada aula.\n",
    "\n",
    "O notebook \"hora da pratica\" é um notebook construído com espaço para as células dos desafios propostos no curso, com ele você tem espaço para construir e executar suas soluções"
   ]
  },
  {
   "cell_type": "markdown",
   "metadata": {
    "id": "Mc-KN0dA0Z83"
   },
   "source": [
    "## Aula 1 - Introdução ao Python"
   ]
  },
  {
   "cell_type": "markdown",
   "metadata": {
    "id": "l5eLWf0W0ikn"
   },
   "source": [
    "### Questão 1\n",
    "\n",
    "Imprima a frase `Escola de Dados da Alura!`"
   ]
  },
  {
   "cell_type": "code",
   "execution_count": null,
   "metadata": {
    "id": "5pllxJ0h0-yA"
   },
   "outputs": [
    {
     "name": "stdout",
     "output_type": "stream",
     "text": [
      "Escola de Dados da Alura!\n"
     ]
    }
   ],
   "source": [
    "print('Escola de Dados da Alura!')"
   ]
  },
  {
   "cell_type": "markdown",
   "metadata": {
    "id": "tQdX90Ue03c7"
   },
   "source": [
    "### Questão 2\n",
    "Imprima na tela seu nome e seu sobrenome seguindo a estrutura abaixo:\n",
    "```\n",
    "Nome: [seu nome]\n",
    "Sobrenome: [seu sobrenome]\n",
    "```\n"
   ]
  },
  {
   "cell_type": "code",
   "execution_count": null,
   "metadata": {
    "id": "RVw5iKn20_Ps"
   },
   "outputs": [
    {
     "name": "stdout",
     "output_type": "stream",
     "text": [
      "Nome: Victor\n",
      "Sobrenome: Renzzo\n"
     ]
    }
   ],
   "source": [
    "print('Nome:','Victor')\n",
    "print('Sobrenome:','Renzzo')"
   ]
  },
  {
   "cell_type": "markdown",
   "metadata": {
    "id": "gfg-aiip03vC"
   },
   "source": [
    "### Questão 3\n",
    "Imprima o seu primeiro nome letra a letra. Por exemplo, nome é Mirla, então eu obtenho a seguinte saída:\n",
    "```\n",
    "M\n",
    "I\n",
    "R\n",
    "L\n",
    "A\n",
    "```\n"
   ]
  },
  {
   "cell_type": "code",
   "execution_count": null,
   "metadata": {
    "id": "v5bkrgf60_qx"
   },
   "outputs": [
    {
     "name": "stdout",
     "output_type": "stream",
     "text": [
      "V\n",
      "I\n",
      "C\n",
      "T\n",
      "O\n",
      "R\n"
     ]
    }
   ],
   "source": [
    "print('V')\n",
    "print('I')\n",
    "print('C')\n",
    "print('T')\n",
    "print('O')\n",
    "print('R')"
   ]
  },
  {
   "cell_type": "markdown",
   "metadata": {
    "id": "oadrJbl704MM"
   },
   "source": [
    "### Questão 4\n",
    "Imprima o dia do seu nascimento em formato `dia mês ano`. Os valores de dia e ano não podem estar entre aspas. O formato deve estar como no exemplo, supondo uma data de aniversário dia 28 de fevereiro de 2003:\n",
    "```\n",
    "28 fevereiro 2003\n",
    "```"
   ]
  },
  {
   "cell_type": "code",
   "execution_count": null,
   "metadata": {
    "id": "cx0KSsrq1ALD"
   },
   "outputs": [
    {
     "name": "stdout",
     "output_type": "stream",
     "text": [
      "23 Julho 1998\n"
     ]
    }
   ],
   "source": [
    "print(23, 'Julho', 1998)"
   ]
  },
  {
   "cell_type": "markdown",
   "metadata": {
    "id": "3RgyMaan04TD"
   },
   "source": [
    "### Questão 5\n",
    "Imprima em um único print o atual ano que você está fazendo esse curso, o valor do ano deve ser um dado numérico. A saída do print deve ser a seguinte:\n",
    "```\n",
    "Ano atual: [ano]\n",
    "```\n"
   ]
  },
  {
   "cell_type": "code",
   "execution_count": null,
   "metadata": {
    "id": "UN77EfQ2d36Y"
   },
   "outputs": [
    {
     "name": "stdout",
     "output_type": "stream",
     "text": [
      "Ano atual: 2025\n"
     ]
    }
   ],
   "source": [
    "print('Ano atual:', 2025)"
   ]
  },
  {
   "cell_type": "markdown",
   "metadata": {
    "id": "D9e3FqhO1S3X"
   },
   "source": [
    "## Aula 2 - Manipulando dados no Python"
   ]
  },
  {
   "cell_type": "markdown",
   "metadata": {
    "id": "n6o7C1Ze2cRe"
   },
   "source": [
    "### Coleta e amostragem de dados"
   ]
  },
  {
   "cell_type": "markdown",
   "metadata": {
    "id": "sRneWag9PV5Q"
   },
   "source": [
    "#### Questão 1\n",
    "Crie um programa que solicite à pessoa usuária digitar seu nome, e imprima “Olá, [nome]!”."
   ]
  },
  {
   "cell_type": "code",
   "execution_count": null,
   "metadata": {
    "id": "dbX1fKqy2HnE"
   },
   "outputs": [
    {
     "name": "stdout",
     "output_type": "stream",
     "text": [
      "Olá, Victor\n"
     ]
    }
   ],
   "source": [
    "nome = input('Digite seu nome: ')\n",
    "print(f'Olá, {nome}')"
   ]
  },
  {
   "cell_type": "markdown",
   "metadata": {
    "id": "BJ1SznEp70d5"
   },
   "source": [
    "#### Questão 2\n",
    "Crie um programa que solicite à pessoa usuária digitar seu nome e idade, e imprima “Olá, [nome], você tem [idade] anos.”."
   ]
  },
  {
   "cell_type": "code",
   "execution_count": null,
   "metadata": {
    "id": "jKz-0Sq8PFkp"
   },
   "outputs": [
    {
     "name": "stdout",
     "output_type": "stream",
     "text": [
      "Olá Victor, você tem 26 anos.\n"
     ]
    }
   ],
   "source": [
    "nome = input('Digite seu nome: ')\n",
    "idade = int(input('Digite sua idade: '))\n",
    "print(f'Olá {nome}, você tem {idade} anos.')"
   ]
  },
  {
   "cell_type": "markdown",
   "metadata": {
    "id": "2T0jNYZt70aa"
   },
   "source": [
    "#### Questão 3\n",
    "Crie um programa que solicite à pessoa usuária digitar seu nome, idade e altura em metros, e imprima “Olá, [nome], você tem [idade] anos e mede [altura] metros!”."
   ]
  },
  {
   "cell_type": "code",
   "execution_count": null,
   "metadata": {
    "id": "pI4kHNzTPIXh"
   },
   "outputs": [
    {
     "name": "stdout",
     "output_type": "stream",
     "text": [
      "Olá, Helena, você tem 24 anos e mede 1.65 metros!\n"
     ]
    }
   ],
   "source": [
    "nome = input('Digite seu nome: ')\n",
    "idade = int(input('Digite sua idade: '))\n",
    "altura = float(input('Digite sua altura (em metros): '))\n",
    "\n",
    "print(f'Olá, {nome}, você tem {idade} anos e mede {altura} metros!')"
   ]
  },
  {
   "cell_type": "markdown",
   "metadata": {
    "id": "mEBFwKkC70KP"
   },
   "source": [
    "### Calculadora com operadores"
   ]
  },
  {
   "cell_type": "markdown",
   "metadata": {
    "id": "H-IV1oAPPSqK"
   },
   "source": [
    "#### Questão 1\n",
    "\n",
    "Crie um programa que solicite dois valores numéricos à pessoa usuária e imprima a soma dos dois valores."
   ]
  },
  {
   "cell_type": "code",
   "execution_count": null,
   "metadata": {
    "id": "Zb0W84sy8rnp"
   },
   "outputs": [
    {
     "name": "stdout",
     "output_type": "stream",
     "text": [
      "A soma entre 15 + 69 = 84\n"
     ]
    }
   ],
   "source": [
    "n1 = int(input('Digite o 1º número: '))\n",
    "n2 = int(input('Digite o 2º número: '))\n",
    "soma = n1 + n2\n",
    "print(f'A soma entre {n1} + {n2} = {soma}')"
   ]
  },
  {
   "cell_type": "markdown",
   "metadata": {
    "id": "LUoi2MOu70Em"
   },
   "source": [
    "#### Questão 2\n",
    "Crie um programa que solicite três valores numéricos à pessoa usuária e imprima a soma dos três valores."
   ]
  },
  {
   "cell_type": "code",
   "execution_count": null,
   "metadata": {
    "id": "4FYjWyBS8rDm"
   },
   "outputs": [
    {
     "name": "stdout",
     "output_type": "stream",
     "text": [
      "A soma entre 1089 + 2036 + 8547 = 11672\n"
     ]
    }
   ],
   "source": [
    "n1 = int(input('Digite o 1º número: '))\n",
    "n2 = int(input('Digite o 2º número: '))\n",
    "n3 = int(input('Digite o 3º número: '))\n",
    "soma = n1 + n2 + n3\n",
    "print(f'A soma entre {n1} + {n2} + {n3} = {soma}')"
   ]
  },
  {
   "cell_type": "markdown",
   "metadata": {
    "id": "lezGctF07z8i"
   },
   "source": [
    "#### Questão 3\n",
    "Crie um programa que solicite dois valores numéricos à pessoa usuária e imprima a subtração do primeiro pelo o segundo valor."
   ]
  },
  {
   "cell_type": "code",
   "execution_count": null,
   "metadata": {
    "id": "k0GE1z4w8p3J"
   },
   "outputs": [
    {
     "name": "stdout",
     "output_type": "stream",
     "text": [
      "A subtração entre 10-6 = 4\n"
     ]
    }
   ],
   "source": [
    "n1 = int(input('Digite o 1º número: '))\n",
    "n2 = int(input('Digite o 2º número: '))\n",
    "subtracao = n1 - n2\n",
    "print(f'A subtração entre {n1}-{n2} = {subtracao}')"
   ]
  },
  {
   "cell_type": "markdown",
   "metadata": {
    "id": "wwMP-dPU7zxW"
   },
   "source": [
    "#### Questão 4\n",
    "\n",
    "Crie um programa que solicite dois valores numéricos à pessoa usuária e imprima a multiplicação dos dois valores.\n"
   ]
  },
  {
   "cell_type": "code",
   "execution_count": null,
   "metadata": {
    "id": "GzFCVHfp8peZ"
   },
   "outputs": [
    {
     "name": "stdout",
     "output_type": "stream",
     "text": [
      "A multiplicação de 10x55 = 550\n"
     ]
    }
   ],
   "source": [
    "n1 = int(input('Digite o 1º valor: '))\n",
    "n2 = int(input('Digite o 2º valor: '))\n",
    "multi = n1*n2\n",
    "print(f'A multiplicação de {n1}x{n2} = {multi}')"
   ]
  },
  {
   "cell_type": "markdown",
   "metadata": {
    "id": "9kxyHxUo7zRD"
   },
   "source": [
    "#### Questão 5\n",
    "\n",
    "Crie um programa que solicite dois valores numéricos, um numerador e um denominador, e realize a divisão entre os dois valores. Deixe claro que o valor do denominador não pode ser `0`.\n"
   ]
  },
  {
   "cell_type": "code",
   "execution_count": null,
   "metadata": {
    "id": "ytJ8l5KH8ozc"
   },
   "outputs": [
    {
     "name": "stdout",
     "output_type": "stream",
     "text": [
      "A divisão de 150/10 = 15.0\n"
     ]
    }
   ],
   "source": [
    "numerador = int(input('Digite o numerador: '))\n",
    "denominador = int(input('Digite o denominador (não pode ser 0): '))\n",
    "divisao = numerador / denominador\n",
    "print(f'A divisão de {numerador}/{denominador} = {divisao}')"
   ]
  },
  {
   "cell_type": "markdown",
   "metadata": {
    "id": "zkUSBTQq8Hxt"
   },
   "source": [
    "#### Questão 6\n",
    "\n",
    "Crie um programa que solicite dois valores numéricos, um operador e uma potência, e realize a exponenciação entre esses dois valores.\n"
   ]
  },
  {
   "cell_type": "code",
   "execution_count": null,
   "metadata": {
    "id": "RPj36jq08oZp"
   },
   "outputs": [
    {
     "name": "stdout",
     "output_type": "stream",
     "text": [
      "A exponenciação de 20**5 = 3200000\n"
     ]
    }
   ],
   "source": [
    "operador = int(input('Digite o operador: '))\n",
    "potencia = int(input('Digite a potência: '))\n",
    "exponenciacao = operador**potencia\n",
    "print(f'A exponenciação de {operador}**{potencia} = {exponenciacao}')"
   ]
  },
  {
   "cell_type": "markdown",
   "metadata": {
    "id": "yiunIusZ8Huj"
   },
   "source": [
    "#### Questão 7\n",
    "Crie um programa que solicite dois valores numéricos, um numerador e um denominador e realize a divisão inteira entre os dois valores. Deixe claro que o valor do denominador não pode ser `0`."
   ]
  },
  {
   "cell_type": "code",
   "execution_count": null,
   "metadata": {
    "id": "UHK8xITf8oCg"
   },
   "outputs": [
    {
     "name": "stdout",
     "output_type": "stream",
     "text": [
      "A divisão inteira de 25//5 = 5\n"
     ]
    }
   ],
   "source": [
    "numerador = int(input('Digite o numerador: '))\n",
    "denominador = int(input('Digite o denominador (não pode ser 0): '))\n",
    "div_int = numerador // denominador\n",
    "print(f'A divisão inteira de {numerador}//{denominador} = {div_int}')"
   ]
  },
  {
   "cell_type": "markdown",
   "metadata": {
    "id": "z_D_JiLX8Hra"
   },
   "source": [
    "#### Questão 8\n",
    "\n",
    "Crie um programa que solicite dois valores numéricos, um numerador e um denominador, e retorne o resto da divisão entre os dois valores. Deixe claro que o valor do denominador não pode ser `0`."
   ]
  },
  {
   "cell_type": "code",
   "execution_count": null,
   "metadata": {
    "id": "EWGJeukO8nqx"
   },
   "outputs": [
    {
     "name": "stdout",
     "output_type": "stream",
     "text": [
      "O resto da divisão de 25%7 = 4\n"
     ]
    }
   ],
   "source": [
    "numerador = int(input('Digite o numerador: '))\n",
    "denominador = int(input('Digite o denominador (não pode ser 0): '))\n",
    "div_resto = numerador % denominador\n",
    "print(f'O resto da divisão de {numerador}%{denominador} = {div_resto}')"
   ]
  },
  {
   "cell_type": "markdown",
   "metadata": {
    "id": "RDRajNkU8N8N"
   },
   "source": [
    "#### Questão 9\n",
    "\n",
    "Crie um código que solicita 3 notas de um estudante e imprima a média das notas."
   ]
  },
  {
   "cell_type": "code",
   "execution_count": null,
   "metadata": {
    "id": "H6F4Ojzt8nSR"
   },
   "outputs": [
    {
     "name": "stdout",
     "output_type": "stream",
     "text": [
      "A média é 13.7\n"
     ]
    }
   ],
   "source": [
    "nota1 = float(input('digite a 1ª nota: '))\n",
    "nota2 = float(input('digite a 2ª nota: '))\n",
    "nota3 = float(input('digite a 3ª nota: '))\n",
    "\n",
    "media = nota1 + nota2 + nota3 / 3\n",
    "print(f'A média é {media:.1f}')"
   ]
  },
  {
   "cell_type": "markdown",
   "metadata": {
    "id": "d7fjkne58N21"
   },
   "source": [
    "#### Questão 10\n",
    "\n",
    "Crie um código que calcule e imprima a média ponderada dos números 5, 12, 20 e 15 com pesos respectivamente iguais a 1, 2, 3 e 4."
   ]
  },
  {
   "cell_type": "code",
   "execution_count": null,
   "metadata": {
    "id": "fwjoHlV48mkv"
   },
   "outputs": [
    {
     "name": "stdout",
     "output_type": "stream",
     "text": [
      "A média ponderada é 95.00\n"
     ]
    }
   ],
   "source": [
    "media_pond = 5*1 + 12*2 + 20*3 + 15*4 / 10\n",
    "\n",
    "print(f'A média ponderada é {media_pond:.2f}')"
   ]
  },
  {
   "cell_type": "markdown",
   "metadata": {
    "id": "GNmbX1OU8N0V"
   },
   "source": [
    "### Editando textos"
   ]
  },
  {
   "cell_type": "markdown",
   "metadata": {
    "id": "6wZ85mCsRCV0"
   },
   "source": [
    "#### Questão 1\n",
    "\n",
    "Crie uma variável chamada “`frase`” e atribua a ela uma string de sua escolha. Em seguida, imprima a frase na tela."
   ]
  },
  {
   "cell_type": "code",
   "execution_count": null,
   "metadata": {
    "id": "eRqr_gh-8mFy"
   },
   "outputs": [
    {
     "name": "stdout",
     "output_type": "stream",
     "text": [
      "Victor Renzzo Denofrio\n"
     ]
    }
   ],
   "source": [
    "frase = 'Victor Renzzo Denofrio'\n",
    "print(frase)"
   ]
  },
  {
   "cell_type": "markdown",
   "metadata": {
    "id": "Aac17z-18Nwv"
   },
   "source": [
    "#### Questão 2\n",
    "Crie um código que solicite uma frase e depois imprima a frase na tela."
   ]
  },
  {
   "cell_type": "code",
   "execution_count": null,
   "metadata": {
    "id": "8zfE2hh98lb0"
   },
   "outputs": [
    {
     "name": "stdout",
     "output_type": "stream",
     "text": [
      "Olá mundo!\n"
     ]
    }
   ],
   "source": [
    "frase = input('Digite uma frase: ')\n",
    "print(frase)"
   ]
  },
  {
   "cell_type": "markdown",
   "metadata": {
    "id": "DXVzqpN58Ntr"
   },
   "source": [
    "#### Questão 3\n",
    "\n",
    "Crie um código que solicite uma frase à pessoa usuária e imprima a mesma frase digitada mas com todas as letras maiúsculas."
   ]
  },
  {
   "cell_type": "code",
   "execution_count": null,
   "metadata": {
    "id": "d0VzoYP68k-I"
   },
   "outputs": [
    {
     "name": "stdout",
     "output_type": "stream",
     "text": [
      "OLÁ MUNDO!\n"
     ]
    }
   ],
   "source": [
    "frase = input('Digite uma frase: ').upper()\n",
    "print(frase)"
   ]
  },
  {
   "cell_type": "markdown",
   "metadata": {
    "id": "I12VeNPK8Nqb"
   },
   "source": [
    "#### Questão 4\n",
    "\n",
    "Crie um código que solicite uma frase à pessoa usuária e imprima a mesma frase digitada mas com todas as letras minúsculas."
   ]
  },
  {
   "cell_type": "code",
   "execution_count": null,
   "metadata": {
    "id": "KD8rNy2K8kox"
   },
   "outputs": [
    {
     "name": "stdout",
     "output_type": "stream",
     "text": [
      "olá mundo!\n"
     ]
    }
   ],
   "source": [
    "frase = input('Digite uma frase: ').lower()\n",
    "print(frase)"
   ]
  },
  {
   "cell_type": "markdown",
   "metadata": {
    "id": "cRqngSE48Nog"
   },
   "source": [
    "#### Questão 5\n",
    "\n",
    "Crie uma variável chamada “`frase`” e atribua a ela uma string de sua escolha. Em seguida, imprima a frase sem espaços em branco no início e no fim."
   ]
  },
  {
   "cell_type": "code",
   "execution_count": null,
   "metadata": {
    "id": "aSCpdF-o8kBs"
   },
   "outputs": [
    {
     "name": "stdout",
     "output_type": "stream",
     "text": [
      "Victor Renzzo Denofrio\n"
     ]
    }
   ],
   "source": [
    "frase = '   Victor Renzzo Denofrio   '\n",
    "print(frase.strip())"
   ]
  },
  {
   "cell_type": "markdown",
   "metadata": {
    "id": "murIazpQ8Nkv"
   },
   "source": [
    "#### Questão 6\n",
    "\n",
    "Crie um código que solicite uma frase à pessoa usuária e imprima a mesma frase sem espaços em branco no início e no fim."
   ]
  },
  {
   "cell_type": "code",
   "execution_count": null,
   "metadata": {
    "id": "tHunjwuG8jNq"
   },
   "outputs": [
    {
     "name": "stdout",
     "output_type": "stream",
     "text": [
      "Olá mundo\n"
     ]
    }
   ],
   "source": [
    "frase = input('Digite uma frase: ').strip()\n",
    "print(frase)"
   ]
  },
  {
   "cell_type": "markdown",
   "metadata": {
    "id": "eRxc2OeX8Nh2"
   },
   "source": [
    "#### Questão 7\n",
    "\n",
    "\n",
    "Crie um código que solicite uma frase à pessoa usuária e imprima a mesma frase sem espaços em branco no início e no fim e em letras minúsculas."
   ]
  },
  {
   "cell_type": "code",
   "execution_count": null,
   "metadata": {
    "id": "DYm0_UwS8ih6"
   },
   "outputs": [
    {
     "name": "stdout",
     "output_type": "stream",
     "text": [
      "victor renzzo denofrio\n"
     ]
    }
   ],
   "source": [
    "frase = input('Digite uma frase: ').strip().lower()\n",
    "print(frase)"
   ]
  },
  {
   "cell_type": "markdown",
   "metadata": {
    "id": "UKATLavs8NfI"
   },
   "source": [
    "#### Questão 8\n",
    "\n",
    "Crie um código que solicite uma frase à pessoa usuária e imprima a mesma frase com todas as vogais “`e`” trocadas pela letra “`f`”."
   ]
  },
  {
   "cell_type": "code",
   "execution_count": null,
   "metadata": {
    "id": "k64C5G5S8iLO"
   },
   "outputs": [
    {
     "name": "stdout",
     "output_type": "stream",
     "text": [
      "Rfnzzo Dfnofrio\n"
     ]
    }
   ],
   "source": [
    "frase = input('Digite uma frase: ').replace('e', 'f')\n",
    "print(frase)"
   ]
  },
  {
   "cell_type": "markdown",
   "metadata": {
    "id": "n_1SPchw8NdG"
   },
   "source": [
    "#### Questão 9\n",
    "\n",
    "\n",
    "Crie um código que solicite uma frase à pessoa usuária e imprima a mesma frase com todas as vogais “`a`” trocadas pela caractere  “`@`”."
   ]
  },
  {
   "cell_type": "code",
   "execution_count": null,
   "metadata": {
    "id": "msaDNm_p8h0D"
   },
   "outputs": [
    {
     "name": "stdout",
     "output_type": "stream",
     "text": [
      "Suz@n@\n"
     ]
    }
   ],
   "source": [
    "frase = input('Digite uma frase: ').replace('a', chr(64))\n",
    "print(frase)"
   ]
  },
  {
   "cell_type": "markdown",
   "metadata": {
    "id": "H3sTTjqI8Naa"
   },
   "source": [
    "#### Questão 10\n",
    "\n",
    "\n",
    "Crie um código que solicite uma frase à pessoa usuária e imprima a mesma frase com todas as consoantes “`s`” trocadas pelo caractere  “`$`”."
   ]
  },
  {
   "cell_type": "code",
   "execution_count": null,
   "metadata": {
    "id": "RPBIsWT68e-1"
   },
   "outputs": [
    {
     "name": "stdout",
     "output_type": "stream",
     "text": [
      "Su$i, Su$uqui\n"
     ]
    }
   ],
   "source": [
    "frase = input('Digite uma frase: ').replace('s', chr(36))\n",
    "print(frase)"
   ]
  },
  {
   "cell_type": "markdown",
   "metadata": {
    "id": "XGePe4GD2I59"
   },
   "source": [
    "## Aula 3 - Estruturas condicionais"
   ]
  },
  {
   "cell_type": "markdown",
   "metadata": {
    "id": "Pr9HTW0UHCdD"
   },
   "source": [
    "### Aquecendo na programação"
   ]
  },
  {
   "cell_type": "markdown",
   "metadata": {
    "id": "xBZHqhVg80Fy"
   },
   "source": [
    "#### Questão 1\n",
    "Escreva um programa que peça à pessoa usuária para fornecer dois números e exibir o número maior."
   ]
  },
  {
   "cell_type": "code",
   "execution_count": null,
   "metadata": {
    "id": "GJlGnzjc-xyF"
   },
   "outputs": [
    {
     "name": "stdout",
     "output_type": "stream",
     "text": [
      "100\n"
     ]
    }
   ],
   "source": [
    "n1 = int(input('Digite o 2º número: '))\n",
    "n2 = int(input('Digite o 1º número: '))\n",
    "\n",
    "if n1 > n2:\n",
    "    print(n1)\n",
    "else:\n",
    "    print(n2)"
   ]
  },
  {
   "cell_type": "markdown",
   "metadata": {
    "id": "H4sgN7dyHNJF"
   },
   "source": [
    "#### Questão 2\n",
    "Escreva um programa que solicite o percentual de crescimento de produção de uma empresa e informe se houve um crescimento (porcentagem positiva) ou decrescimento (porcentagem negativa)."
   ]
  },
  {
   "cell_type": "code",
   "execution_count": null,
   "metadata": {
    "id": "-2_Ry5XJ-yZW"
   },
   "outputs": [
    {
     "name": "stdout",
     "output_type": "stream",
     "text": [
      "Porcentagem positiva\n"
     ]
    }
   ],
   "source": [
    "percentual = float(input('Digite o percentual: '))\n",
    "\n",
    "if percentual > 0:\n",
    "    print('Porcentagem positiva')\n",
    "else:\n",
    "    print('Porcentagem negativa')"
   ]
  },
  {
   "cell_type": "markdown",
   "metadata": {
    "id": "a_mzNOBDHNny"
   },
   "source": [
    "#### Questão 3\n",
    "Escreva um programa que determine se uma letra fornecida pela pessoa usuária é uma vogal ou consoante."
   ]
  },
  {
   "cell_type": "code",
   "execution_count": null,
   "metadata": {
    "id": "NbgndVyg-zFJ"
   },
   "outputs": [
    {
     "name": "stdout",
     "output_type": "stream",
     "text": [
      "É uma consoante\n"
     ]
    }
   ],
   "source": [
    "letra = input('Digite uma letra: ').upper().strip()\n",
    "vogais = 'aeiou'\n",
    "\n",
    "if letra in vogais:\n",
    "    print('É uma vogal')\n",
    "else:\n",
    "    print('É uma consoante')"
   ]
  },
  {
   "cell_type": "markdown",
   "metadata": {
    "id": "mofMRjSZHP99"
   },
   "source": [
    "#### Questão 4\n",
    "Escreva um programa que leia valores médios de preços de um modelo de carro por 3 anos consecutivos e exiba o valor mais alto e mais baixo entre esses três anos."
   ]
  },
  {
   "cell_type": "code",
   "execution_count": null,
   "metadata": {
    "id": "TX--d3k9-02c"
   },
   "outputs": [
    {
     "name": "stdout",
     "output_type": "stream",
     "text": [
      "O valor mais alto custou R$77000.00\n",
      "O menor valor custou R$75000.00\n"
     ]
    }
   ],
   "source": [
    "carro1 = float(input('Digite o valor do carro do 1º ano: '))\n",
    "carro2 = float(input('Digite o valor do carro do 2º ano: '))\n",
    "carro3 = float(input('Digite o valor do carro do 3º ano: '))\n",
    "\n",
    "maior = carro1\n",
    "if carro2 > maior:\n",
    "    maior = carro2\n",
    "if carro3 > maior:\n",
    "    maior = carro3\n",
    "    \n",
    "menor = carro1\n",
    "if carro2 < menor:\n",
    "    menor = carro2\n",
    "if carro3 < menor:\n",
    "    menor = carro3\n",
    "\n",
    "print(f'O valor mais alto custou R${maior:.2f}')\n",
    "print(f'O menor valor custou R${menor:.2f}')"
   ]
  },
  {
   "cell_type": "markdown",
   "metadata": {
    "id": "jY5tIwd-HQzc"
   },
   "source": [
    "#### Questão 5\n",
    "Escreva um programa que pergunte sobre o preço de três produtos e indique qual é o produto mais barato para comprar."
   ]
  },
  {
   "cell_type": "code",
   "execution_count": null,
   "metadata": {
    "id": "sYqNh9df-0gk"
   },
   "outputs": [
    {
     "name": "stdout",
     "output_type": "stream",
     "text": [
      "O preço do produto mais barato foi de R$80.00\n"
     ]
    }
   ],
   "source": [
    "produto1 = float(input('Digite o preço do 1º produto: R$'))\n",
    "produto2 = float(input('Digite o preço do 2º produto: R$'))\n",
    "produto3 = float(input('Digite o preço do 3º produto: R$'))\n",
    "\n",
    "barato = produto1\n",
    "if produto2 < barato:\n",
    "    barato = produto2\n",
    "if produto3 < barato:\n",
    "    barato = produto3\n",
    "\n",
    "print(f'O preço do produto mais barato foi de R${barato:.2f}')"
   ]
  },
  {
   "cell_type": "markdown",
   "metadata": {
    "id": "1r6aVxtTHR4E"
   },
   "source": [
    "#### Questão 6\n",
    "Escreva um programa que leia três números e os exiba em ordem decrescente."
   ]
  },
  {
   "cell_type": "code",
   "execution_count": null,
   "metadata": {
    "id": "ydOCYUMO-0Hk"
   },
   "outputs": [],
   "source": [
    "n1 = int(input('Digite o 1º número: '))\n",
    "n2 = int(input('Digite o 2º número: '))\n",
    "n3 = int(input('Digite o 3º número: '))\n",
    "\n",
    "if (n1 > n2 or n3) or (n2 > n1 or n3) or (n3 > n1 or n2):\n",
    "    print(n2)\n",
    "\n"
   ]
  },
  {
   "cell_type": "markdown",
   "metadata": {
    "id": "inW3F-hAHS_X"
   },
   "source": [
    "#### Questão 7\n",
    "Escreva um programa que pergunte em qual turno a pessoa usuária estuda (\"manhã\", \"tarde\" ou \"noite\") e exiba a mensagem \"Bom Dia!\", \"Boa Tarde!\", \"Boa Noite!\", ou \"Valor Inválido!\", conforme o caso."
   ]
  },
  {
   "cell_type": "code",
   "execution_count": null,
   "metadata": {
    "id": "-_q-Pcr_-zth"
   },
   "outputs": [
    {
     "name": "stdout",
     "output_type": "stream",
     "text": [
      "Valor Inválido!\n"
     ]
    }
   ],
   "source": [
    "turno = input('Qual é o seu turno: ')\n",
    "\n",
    "if turno == 'manhã':\n",
    "    print('Bom Dia!')\n",
    "elif turno == 'tarde':\n",
    "    print('Boa Tarde!')\n",
    "elif turno == 'noite':\n",
    "    print('Boa Noite!')\n",
    "else:\n",
    "    print('Valor Inválido!')"
   ]
  },
  {
   "cell_type": "markdown",
   "metadata": {
    "id": "NCCPF3QqHTw-"
   },
   "source": [
    "#### Questão 8\n",
    "Escreva um programa que peça um número inteiro à pessoa usuária e determine se ele é par ou ímpar. Dica: Você pode utilizar o operador módulo `%`."
   ]
  },
  {
   "cell_type": "code",
   "execution_count": null,
   "metadata": {
    "id": "OmZJt1nQ-3e6"
   },
   "outputs": [
    {
     "name": "stdout",
     "output_type": "stream",
     "text": [
      "É Par!\n"
     ]
    }
   ],
   "source": [
    "num = int(input('Digite um número: '))\n",
    "\n",
    "if num % 2 == 0:\n",
    "    print('É Par!')\n",
    "else:\n",
    "    print('É Ímpar!')"
   ]
  },
  {
   "cell_type": "markdown",
   "metadata": {
    "id": "h93Ck1tQHUwE"
   },
   "source": [
    "#### Questão 9\n",
    "Escreva um programa que peça um número à pessoa usuária e informe se ele é inteiro ou decimal."
   ]
  },
  {
   "cell_type": "code",
   "execution_count": null,
   "metadata": {
    "id": "sLMlZcx8-20N"
   },
   "outputs": [
    {
     "name": "stdout",
     "output_type": "stream",
     "text": [
      "É 5.0 um número inteiro\n"
     ]
    }
   ],
   "source": [
    "num = float(input('Digite um número: '))\n",
    "\n",
    "if num % 1 == 0:\n",
    "    print(f'É {num} um número inteiro')\n",
    "else:\n",
    "    print(f'É {num} um número decimal')"
   ]
  },
  {
   "cell_type": "markdown",
   "metadata": {
    "id": "bKdXSK1SH_pF"
   },
   "source": [
    "### Momento dos projetos"
   ]
  },
  {
   "cell_type": "markdown",
   "metadata": {
    "id": "WBlEyyzsHV86"
   },
   "source": [
    "#### Questão 10\n",
    "Um programa deve ser escrito para ler dois números e, em seguida, perguntar à pessoa usuária qual operação ele deseja realizar. O resultado da operação deve incluir informações sobre o número - se é par ou ímpar, positivo ou negativo e inteiro ou decimal."
   ]
  },
  {
   "cell_type": "code",
   "execution_count": null,
   "metadata": {
    "id": "3jmahZ0f-2gq"
   },
   "outputs": [
    {
     "name": "stdout",
     "output_type": "stream",
     "text": [
      "A adição entre 5.8 e 5.9 é 11.7\n",
      "É ÍMPAR\n",
      "O número é POSITIVO\n",
      "O número é DECIMAL\n"
     ]
    }
   ],
   "source": [
    "num1 = float(input('Digite o 1º número: '))\n",
    "num2 = float(input('Digite o 2º número: '))\n",
    "operacao = input('Qual operação deseja realizar (+, -, *, /): ')\n",
    "\n",
    "# Informa o resultado da operação\n",
    "if operacao == '+':\n",
    "    op = num1 + num2\n",
    "    print(f'A adição entre {num1} e {num2} é {op}')\n",
    "elif operacao == '-':\n",
    "    op = num1 - num2\n",
    "    print(f'A subtração entre {num1} e {num2} é {op}')\n",
    "elif operacao == '*':\n",
    "    op = num1 * num2\n",
    "    print(f'A multiplicação entre {num1} e {num2} é {op}')\n",
    "elif operacao == '/':\n",
    "    op = num1 / num2\n",
    "    print(f'A divisão entre {num1} e {num2} é {op}')\n",
    "else:\n",
    "    print('Operação Inválida!')\n",
    "\n",
    "# Par ou Ímpar\n",
    "if op % 2 == 0:\n",
    "    print('É PAR')\n",
    "else:\n",
    "    print('É ÍMPAR')\n",
    "\n",
    "# Positivo ou Negativo\n",
    "if op > 0:\n",
    "    print('O número é POSITIVO')\n",
    "else:\n",
    "    print('O número é NEGATIVO')\n",
    "\n",
    "# Inteiro ou Decimal\n",
    "if op % 1 != 0:\n",
    "    print('O número é DECIMAL')\n",
    "else:\n",
    "    print('O número é INTEIRO')\n"
   ]
  },
  {
   "cell_type": "markdown",
   "metadata": {
    "id": "VdnlULxHHW19"
   },
   "source": [
    "#### Questão 11\n",
    "Escreva um programa que peça à pessoa usuária três números que representam os lados de um triângulo. O programa deve informar se os valores podem ser utilizados para formar um triângulo e, caso afirmativo, se ele é equilátero, isósceles ou escaleno. Tenha em mente algumas dicas:\n",
    "- Três lados formam um triângulo quando a soma de quaisquer dois lados for maior que o terceiro;\n",
    "- Triângulo Equilátero: três lados iguais;\n",
    "- Triângulo Isósceles: quaisquer dois lados iguais;\n",
    "- Triângulo Escaleno: três lados diferentes;\n"
   ]
  },
  {
   "cell_type": "code",
   "execution_count": null,
   "metadata": {
    "id": "0z73sqUO-2Pw"
   },
   "outputs": [
    {
     "name": "stdout",
     "output_type": "stream",
     "text": [
      "é um Isósceles\n"
     ]
    }
   ],
   "source": [
    "a = int(input('Digite o lado A: '))\n",
    "b = int(input('Digite o lado B: '))\n",
    "c = int(input('Digite o lado C: '))\n",
    "\n",
    "if a == b == c:\n",
    "    print('É um Equilátero')\n",
    "elif a == b != c or c == a != b or b == c != a:\n",
    "    print('é um Isósceles')\n",
    "else:\n",
    "    print('É um Escaleno')"
   ]
  },
  {
   "cell_type": "markdown",
   "metadata": {
    "id": "_PpEpOugHXwZ"
   },
   "source": [
    "#### Questão 12\n",
    "Um estabelecimento está vendendo combustíveis com descontos variados. Para o etanol, se a quantidade comprada for até 15 litros, o desconto será de 2% por litro. Caso contrário, será de 4% por litro. Para o diesel, se a quantidade comprada for até 15 litros, o desconto será de 3% por litro. Caso contrário, será de 5% por litro. O preço do litro de diesel é R\\$ 2,00 e o preço do litro de etanol é R\\$ 1,70. Escreva um programa que leia a quantidade de litros vendidos e o tipo de combustível (E para etanol e D para diesel) e calcule o valor a ser pago pelo cliente. Tenha em mente algumas dicas:\n",
    "\n",
    "- O do valor do desconto será a multiplicação entre preço do litro, quantidade de litros e o valor do desconto.\n",
    "- O valor a ser pago por um cliente será o resultado da multiplicação do preço do litro pela quantidade de litros menos o valor de desconto resultante do cálculo.\n"
   ]
  },
  {
   "cell_type": "code",
   "execution_count": null,
   "metadata": {
    "id": "9izoF-0O-1yD"
   },
   "outputs": [
    {
     "name": "stdout",
     "output_type": "stream",
     "text": [
      "O valor a ser pago é B++ de R$30.40\n"
     ]
    }
   ],
   "source": [
    "combustivel = input('Digite o tipo de combustível (E para etanol e D para diesel): ').upper()\n",
    "litros = float(input('Digite a quantidade em litros: '))\n",
    "etanol = 1.70 \n",
    "diesel = 2.00\n",
    "\n",
    "# ETANOL\n",
    "if combustivel == 'E':\n",
    "    if litros <= 15:    \n",
    "        desconto = etanol * litros * 0.02\n",
    "        a_pagar = (etanol * litros) - desconto\n",
    "        print(f'O valor a ser pago é de R${a_pagar:.2f}')\n",
    "    else:\n",
    "        desconto = etanol * litros * 0.04\n",
    "        a_pagar = (etanol * litros) - desconto\n",
    "        print(f'O valor a ser pago é de R${a_pagar:.2f}')\n",
    "\n",
    "# DIESEL\n",
    "if combustivel == 'D':\n",
    "    if litros <= 15:\n",
    "        desconto = diesel * litros * 0.03\n",
    "        a_pagar = (diesel * litros) - desconto\n",
    "        print(f'O valor a ser pago é de R${a_pagar:.2f}')\n",
    "    else:\n",
    "        desconto = diesel * litros * 0.05\n",
    "        a_pagar = (diesel * litros) - desconto\n",
    "        print(f'O valor a ser pago é de R${a_pagar:.2f}')"
   ]
  },
  {
   "cell_type": "markdown",
   "metadata": {
    "id": "s_XS_D1WHY2R"
   },
   "source": [
    "#### Questão 13\n",
    "Em uma empresa de venda de imóveis você precisa criar um código que analise os dados de vendas anuais para ajudar a diretoria na tomada de decisão. O código precisa coletar os dados de quantidade de venda durante os anos de 2022 e 2023 e fazer um cálculo de variação percentual. A partir do valor da variação, deve ser enviada às seguintes sugestões:\n",
    "- Para variação acima de 20%: bonificação para o time de vendas.\n",
    "- Para variação entre 2% e 20%: pequena bonificação para time de vendas.\n",
    "- Para variação entre 2% e -10%: planejamento de políticas de incentivo às vendas.\n",
    "- Para bonificações abaixo de -10%: corte de gastos.\n"
   ]
  },
  {
   "cell_type": "code",
   "execution_count": null,
   "metadata": {
    "id": "avQrYlUg-w8f"
   },
   "outputs": [
    {
     "name": "stdout",
     "output_type": "stream",
     "text": [
      "Bonificação para o time de vendas\n"
     ]
    }
   ],
   "source": [
    "quant_vendas_2022 = int(input('Digite a quantidade de vendas 2022: ')) \n",
    "quant_vendas_2023 = int(input('Digite a quantidade de vendas 2023: '))\n",
    "\n",
    "Variaçao_percentual = 100 * (quant_vendas_2023 - quant_vendas_2022) / quant_vendas_2022 \n",
    "\n",
    "if Variaçao_percentual > 20:\n",
    "    print('Bonificação para o time de vendas')\n",
    "elif Variaçao_percentual >=2:\n",
    "    print('Pequena bonificação para time de vendas')\n",
    "elif Variaçao_percentual >= -10:\n",
    "    print('planejamento de políticas de incentivo às vendas')\n",
    "else:\n",
    "    print('Corte de gastos')    "
   ]
  },
  {
   "cell_type": "markdown",
   "metadata": {
    "id": "AuaWh4-d2Itt"
   },
   "source": [
    "## Aula 4 - Estruturas de repetição"
   ]
  },
  {
   "cell_type": "markdown",
   "metadata": {
    "id": "6MSqU0sIJRdD"
   },
   "source": [
    "### Aquecendo na programação"
   ]
  },
  {
   "cell_type": "markdown",
   "metadata": {
    "id": "9eGGyCnAJRdQ"
   },
   "source": [
    "#### Questão 1\n",
    "Escreva um programa que peça dois números inteiros e imprima todos os números inteiros entre eles."
   ]
  },
  {
   "cell_type": "code",
   "execution_count": 9,
   "metadata": {
    "id": "ID1oc1hxJRdQ"
   },
   "outputs": [
    {
     "name": "stdout",
     "output_type": "stream",
     "text": [
      "10\n",
      "11\n",
      "12\n",
      "13\n",
      "14\n",
      "15\n",
      "16\n",
      "17\n",
      "18\n",
      "19\n",
      "20\n",
      "21\n",
      "22\n",
      "23\n",
      "24\n"
     ]
    }
   ],
   "source": [
    "a = int(input('Digite o 1º número: '))\n",
    "b = int(input('Digite o 2º número: '))\n",
    "\n",
    "for i in range(a, b):\n",
    "    print(i)"
   ]
  },
  {
   "cell_type": "markdown",
   "metadata": {
    "id": "mGonEHYCJRdR"
   },
   "source": [
    "#### Questão 2\n",
    "Escreva um programa para calcular quantos dias levará para a colônia de uma bactéria A ultrapassar ou igualar a colônia de uma bactéria B, com base nas taxas de crescimento de 3% e 1,5% respectivamente. Considere que a colônia A inicia com 4 elementos e a colônia B com 10 elementos."
   ]
  },
  {
   "cell_type": "code",
   "execution_count": null,
   "metadata": {
    "id": "wM6FJuoqJRdR"
   },
   "outputs": [
    {
     "name": "stdout",
     "output_type": "stream",
     "text": [
      "A colônia A demorou 63 dias para ultrapassar a B.\n"
     ]
    }
   ],
   "source": [
    "a = 4\n",
    "b = 10\n",
    "taxa_a = 0.03\n",
    "taxa_b = 0.015\n",
    "dias = 0\n",
    "\n",
    "while a < b: \n",
    "    a += (a * taxa_a)\n",
    "    b += (b * taxa_b)\n",
    "    dias += 1    \n",
    "        \n",
    "print(f'A colônia A demorou {dias} dias para ultrapassar a B.')"
   ]
  },
  {
   "cell_type": "markdown",
   "metadata": {
    "id": "UiOZRlqoJRdR"
   },
   "source": [
    "#### Questão 3\n",
    "Para tratar uma quantidade de 15 dados de avaliações de pessoas usuárias de um serviço da empresa, precisamos verificar se as notas são válidas. Então, escreva um programa que vai receber a nota de 0 a 5 de todos os dados e verificar se é um valor válido. Caso seja inserido uma nota acima de 5 ou abaixo de 0, repita até que a pessoa usuária insira um valor válido."
   ]
  },
  {
   "cell_type": "code",
   "execution_count": 6,
   "metadata": {
    "id": "3TUAhCxcJRdR"
   },
   "outputs": [
    {
     "name": "stdout",
     "output_type": "stream",
     "text": [
      "1ª Nota válida: 5\n",
      "2ª Nota válida: 4\n",
      "3ª Nota válida: 3\n",
      "4ª Nota válida: 2\n",
      "5ª Nota válida: 1\n",
      "6ª Nota válida: 0\n",
      "Nota inválida! Tente novamente.\n",
      "7ª Nota válida: 1\n",
      "8ª Nota válida: 2\n",
      "9ª Nota válida: 3\n",
      "10ª Nota válida: 4\n",
      "11ª Nota válida: 5\n",
      "Nota inválida! Tente novamente.\n",
      "Nota inválida! Tente novamente.\n",
      "12ª Nota válida: 4\n",
      "13ª Nota válida: 1\n",
      "14ª Nota válida: 3\n",
      "15ª Nota válida: 5\n"
     ]
    }
   ],
   "source": [
    "for i in range(1, 16):\n",
    "    while True:\n",
    "            nota = int(input(f'Digita a {i}ª nota (0 a 5): '))\n",
    "            if 0 <= nota <= 5:\n",
    "                print(f'{i}ª Nota válida: {nota}')\n",
    "                break\n",
    "            else:\n",
    "                print('Nota inválida! Tente novamente.')\n",
    "\n",
    "        "
   ]
  },
  {
   "cell_type": "markdown",
   "metadata": {
    "id": "ABv3KObGJRdR"
   },
   "source": [
    "#### Questão 4\n",
    "Desenvolva um programa que leia um conjunto indeterminado de temperaturas em Celsius e faça uma análise. Portanto, escreva um programa que leia temperaturas e informe a média delas. A leitura deve ser encerrada ao ser enviado o valor -273°C."
   ]
  },
  {
   "cell_type": "code",
   "execution_count": 1,
   "metadata": {
    "id": "85tBBj5KJRdS"
   },
   "outputs": [
    {
     "name": "stdout",
     "output_type": "stream",
     "text": [
      "Programa encerrado!\n",
      "A média das temperaturas é 74.0°C\n"
     ]
    }
   ],
   "source": [
    "quantidade = 0\n",
    "soma_temp = 0\n",
    "\n",
    "while True:\n",
    "    temperatura = float(input('Informe a temperatura em °C: '))\n",
    "    if temperatura == -273:\n",
    "        print('Programa encerrado!')\n",
    "        break\n",
    "    \n",
    "    # Soma a quantidade\n",
    "    soma_temp += temperatura\n",
    "    quantidade += 1\n",
    "    \n",
    "# Verifica se inseriu algum valor, faz a média\n",
    "if quantidade > 0:\n",
    "    media = soma_temp / quantidade\n",
    "    print(f'A média das temperaturas é {media}°C')\n",
    "else:\n",
    "    print('Valor inválido! Tente novamente.')"
   ]
  },
  {
   "cell_type": "markdown",
   "metadata": {
    "id": "IjkbAfGcJRdS"
   },
   "source": [
    "#### Questão 5\n",
    "Escreva um programa que calcule o fatorial de um número inteiro fornecido pela pessoa usuária. O fatorial de um número inteiro é a multiplicação desse número por todos os seus antecessores até o número 1. Por exemplo, o fatorial de 5 é 5 x 4 x 3 x 2 x 1 = 120."
   ]
  },
  {
   "cell_type": "code",
   "execution_count": null,
   "metadata": {
    "id": "7RTH8o0HJRdS"
   },
   "outputs": [
    {
     "name": "stdout",
     "output_type": "stream",
     "text": [
      "O fatorial de 5 é 120\n"
     ]
    }
   ],
   "source": [
    "num = int(input('Digite um número: '))\n",
    "\n",
    "fat = 1\n",
    "\n",
    "for i in range(num, 0, -1):\n",
    "    fat *= i\n",
    "\n",
    "print(f'O fatorial de {num} é {fat}')\n"
   ]
  },
  {
   "cell_type": "markdown",
   "metadata": {
    "id": "oGNKuQjsJRdT"
   },
   "source": [
    "### Momento dos projetos"
   ]
  },
  {
   "cell_type": "markdown",
   "metadata": {
    "id": "ODxaTUYmJRdS"
   },
   "source": [
    "#### Questão 6\n",
    "Escreva um programa que gere a tabuada de um número inteiro de 1 a 10, de acordo com a escolha da pessoa usuária. Como exemplo, para o número 2, a tabuada deve ser mostrada no seguinte formato:\n",
    "```\n",
    "Tabuada do 2:\n",
    "2 x 1 = 2\n",
    "2 x 2 = 4\n",
    "[...]\n",
    "2 x 10 = 20\n",
    "```"
   ]
  },
  {
   "cell_type": "code",
   "execution_count": 2,
   "metadata": {
    "id": "lkTlbxPIJRdS"
   },
   "outputs": [
    {
     "name": "stdout",
     "output_type": "stream",
     "text": [
      "1x5 = 5\n",
      "2x5 = 10\n",
      "3x5 = 15\n",
      "4x5 = 20\n",
      "5x5 = 25\n",
      "6x5 = 30\n",
      "7x5 = 35\n",
      "8x5 = 40\n",
      "9x5 = 45\n",
      "10x5 = 50\n"
     ]
    }
   ],
   "source": [
    "num = int(input('Digite um número: '))\n",
    "\n",
    "for i in range(1, 11):\n",
    "    print(f'{i}x{num} = {num * i}')"
   ]
  },
  {
   "cell_type": "markdown",
   "metadata": {
    "id": "LeIbnt8VJRdS"
   },
   "source": [
    "#### Questão 7\n",
    "Os números primos possuem várias aplicações dentro da Ciência de Dados, por exemplo, na criptografia e segurança. Um número primo é aquele que é divisível apenas por um e por ele mesmo. Faça um programa que peça um número inteiro e determine se ele é ou não um número primo."
   ]
  },
  {
   "cell_type": "code",
   "execution_count": 23,
   "metadata": {
    "id": "2rcNU7twJRdS"
   },
   "outputs": [
    {
     "name": "stdout",
     "output_type": "stream",
     "text": [
      "13 é um número primo.\n"
     ]
    }
   ],
   "source": [
    "num = int(input('Digite um número: '))\n",
    "divisor = 2\n",
    "\n",
    "while divisor < num:\n",
    "    if num % divisor == 0:\n",
    "        print(f'{num} não é um número primo.')\n",
    "        break\n",
    "    divisor += 1\n",
    "else:\n",
    "    print(f'{num} é um número primo.')\n",
    "    \n",
    "    "
   ]
  },
  {
   "cell_type": "markdown",
   "metadata": {
    "id": "QTwb6QaCJRdT"
   },
   "source": [
    "#### Questão 8\n",
    "Vamos entender a distribuição de idades de pensionistas de uma empresa de previdência. Escreva um programa que leia as idades de uma quantidade não informada de clientes e mostre a distribuição em intervalos de [0-25], [26-50], [51-75] e [76-100]. Encerre a entrada de dados com um número negativo."
   ]
  },
  {
   "cell_type": "code",
   "execution_count": null,
   "metadata": {
    "id": "4IAhaDmYJRdT"
   },
   "outputs": [
    {
     "name": "stdout",
     "output_type": "stream",
     "text": [
      "Programa encerrado!\n",
      "São 1 clientes até 25 anos\n",
      "São 0 clientes entre 26 a 50 anos\n",
      "São 0 clientes entre 51 a 75 anos\n",
      "São 1 clientes entre 76 a 100 anos\n"
     ]
    }
   ],
   "source": [
    "cont_25 = 0\n",
    "cont_50 = 0\n",
    "cont_75 = 0\n",
    "cont_100 = 0\n",
    "\n",
    "while True:\n",
    "    idade = int(input('Digite a idade (ou um número negativo para encerrar): '))\n",
    "    \n",
    "    if idade < 0:\n",
    "        print('Programa encerrado!')\n",
    "        break\n",
    "    \n",
    "    if 0 <= idade <= 25:\n",
    "        cont_25 += 1\n",
    "    elif 26 <= idade <= 50:\n",
    "        cont_50 += 1\n",
    "    elif 51 <= idade <= 75:\n",
    "        cont_75 += 1\n",
    "    elif 76 <= idade <= 100:\n",
    "        cont_100 += 1\n",
    "\n",
    "        \n",
    "print(f'São {cont_25} clientes até 25 anos')\n",
    "print(f'São {cont_50} clientes entre 26 a 50 anos')\n",
    "print(f'São {cont_75} clientes entre 51 a 75 anos') \n",
    "print(f'São {cont_100} clientes entre 76 a 100 anos')"
   ]
  },
  {
   "cell_type": "markdown",
   "metadata": {
    "id": "soJCQVwRJRdT"
   },
   "source": [
    "#### Questão 9\n",
    "Em uma eleição para gerência em uma empresa com 20 funcionários, existem quatro candidatos. Escreva um programa que calcule o vencedor da eleição. A votação ocorreu da seguinte maneira:\n",
    "- Cada funcionário votou em um dos quatro candidatos (representados pelos números 1, 2, 3 e 4).\n",
    "- Também foram contabilizados os votos nulos (representado pelo número 5) e os votos em branco (representado pelo número 6).\n",
    "\n",
    "Ao final da votação, o programa deve exibir o total de votos para cada candidato, o número de votos nulos e o número de votos em branco. Além disso, deve calcular e exibir a porcentagem de votos nulos em relação ao total de votos e a porcentagem de votos em branco em relação ao total de votos."
   ]
  },
  {
   "cell_type": "code",
   "execution_count": null,
   "metadata": {
    "id": "041EFrgG-4gR"
   },
   "outputs": [
    {
     "name": "stdout",
     "output_type": "stream",
     "text": [
      "Valor errado. Tente novamente.\n",
      "Contagem em andamento...\n",
      "\n",
      "Quantidade total de votos do 1º candidato: 2\n",
      "Quantidade total de votos do 2º candidato: 2\n",
      "Quantidade total de votos do 3º candidato: 3\n",
      "Quantidade total de votos do 4º candidato: 1\n",
      "Quantidade de votos NULOS: 5 com 23.81%\n",
      "Quantidade de votos em BRANCO: 8 com 38.10%\n"
     ]
    }
   ],
   "source": [
    "from time import sleep\n",
    "\n",
    "# Varriável de contagem\n",
    "candidato_1 = 0\n",
    "candidato_2 = 0\n",
    "candidato_3 = 0\n",
    "candidato_4 = 0\n",
    "nulos = 0\n",
    "branco = 0\n",
    "quant_votos = 0\n",
    "\n",
    "# Condição de parada\n",
    "while quant_votos <= 20:\n",
    "    votos = input('''\n",
    "    [1] - 1º candidato\n",
    "    [2] - 2º candidato\n",
    "    [3] - 3º candidato\n",
    "    [4] - 4º candidato\n",
    "    [5] - Voto nulo\n",
    "    [6] - Voto em branco\n",
    "    [7] - Fim da contagem\n",
    "    > ''')\n",
    "    \n",
    "    # Faz contagem de votos\n",
    "    if votos.isdigit(): # Verifica se é valor númerico\n",
    "        votos = int(votos)\n",
    "        if votos == 1:\n",
    "            candidato_1 += 1\n",
    "            quant_votos += 1\n",
    "        elif votos == 2:\n",
    "            candidato_2 += 1\n",
    "            quant_votos += 1\n",
    "        elif votos == 3:\n",
    "            candidato_3 += 1\n",
    "            quant_votos += 1 \n",
    "        elif votos == 4:\n",
    "            candidato_4 += 1\n",
    "            quant_votos += 1  \n",
    "        elif votos == 5:\n",
    "            nulos += 1\n",
    "            quant_votos += 1 \n",
    "        elif votos == 6:\n",
    "            branco += 1\n",
    "            quant_votos += 1\n",
    "    else:\n",
    "        print('Valor errado. Tente novamente.')\n",
    "\n",
    "# Porcentagem de votos nulos e brancos\n",
    "porcentagem_nulos = (nulos / quant_votos) * 100\n",
    "porcentagem_brancos = (branco / quant_votos) * 100\n",
    "    \n",
    "print('Contagem em andamento...')    \n",
    "sleep(2)\n",
    "print(f'''\n",
    "Quantidade total de votos do 1º candidato: {candidato_1}\n",
    "Quantidade total de votos do 2º candidato: {candidato_2}\n",
    "Quantidade total de votos do 3º candidato: {candidato_3}\n",
    "Quantidade total de votos do 4º candidato: {candidato_4}\n",
    "Quantidade de votos NULOS: {nulos} com {porcentagem_nulos:.2f}%\n",
    "Quantidade de votos em BRANCO: {branco} com {porcentagem_brancos:.2f}%''')\n"
   ]
  },
  {
   "cell_type": "markdown",
   "metadata": {
    "id": "eijHQiNU2IZ7"
   },
   "source": [
    "## Aula 5 - Estruturas de dados"
   ]
  },
  {
   "cell_type": "markdown",
   "metadata": {
    "id": "92F0bKtBMgd7"
   },
   "source": [
    "### Aquecendo na programação"
   ]
  },
  {
   "cell_type": "markdown",
   "metadata": {
    "id": "IypX2ANuMgeC"
   },
   "source": [
    "#### Questão 1\n",
    "Faça um programa que tenha a seguinte lista contendo os valores de gastos de uma empresa de papel `[2172.54, 3701.35, 3518.09, 3456.61, 3249.38, 2840.82, 3891.45, 3075.26, 2317.64, 3219.08]`. Com esses valores, faça um programa que calcule a média de gastos. Dica, use as funções built-in [`sum()`](https://docs.python.org/3/library/functions.html#sum) e [`len()`](https://docs.python.org/3/library/functions.html#len)."
   ]
  },
  {
   "cell_type": "code",
   "execution_count": 1,
   "metadata": {
    "id": "ge3LuFhLMgeD"
   },
   "outputs": [
    {
     "name": "stdout",
     "output_type": "stream",
     "text": [
      "A média de gastos é de R$3144.22\n"
     ]
    }
   ],
   "source": [
    "gastos = [2172.54, 3701.35, 3518.09, 3456.61, 3249.38, 2840.82, 3891.45, 3075.26, 2317.64, 3219.08]\n",
    "media = sum(gastos) / len(gastos)\n",
    "print(f'A média de gastos é de R${media:.2f}')"
   ]
  },
  {
   "cell_type": "markdown",
   "metadata": {
    "id": "xrOeLhQkMgeD"
   },
   "source": [
    "#### Questão 2\n",
    " Com os mesmos dados da questão anterior, defina quantas compras foram acima de 3000 reais e calcule a porcentagem quanto ao total de compras."
   ]
  },
  {
   "cell_type": "code",
   "execution_count": 12,
   "metadata": {
    "id": "Ygu5TMZyMgeD"
   },
   "outputs": [
    {
     "name": "stdout",
     "output_type": "stream",
     "text": [
      "\n",
      "Compras acima de R$3000: 7\n",
      "Total de compras acima de R$3000: R$24111.22\n",
      "Porcentagem ao total de compras: 76.68% \n",
      "      \n"
     ]
    }
   ],
   "source": [
    "gastos = [2172.54, 3701.35, 3518.09, 3456.61, 3249.38, 2840.82, 3891.45, 3075.26, 2317.64, 3219.08]\n",
    "\n",
    "compras_3000 = [gasto for gasto in gastos if gasto > 3000]\n",
    "quant_compras = len(compras_3000)\n",
    "total_compras = sum(compras_3000)\n",
    "porcentagem = (total_compras / sum(gastos)) * 100\n",
    "\n",
    "print(f'''\n",
    "Compras acima de R$3000: {quant_compras}\n",
    "Total de compras acima de R$3000: R${total_compras:.2f}\n",
    "Porcentagem ao total de compras: {porcentagem:.2f}% \n",
    "      ''')"
   ]
  },
  {
   "cell_type": "markdown",
   "metadata": {
    "id": "JgCOrE_BMgeD"
   },
   "source": [
    "#### Questão 3\n",
    "Faça um código que colete em uma lista 5 números inteiros quaisquer e imprima a lista. Exemplo: `[1,4,7,2,4]`."
   ]
  },
  {
   "cell_type": "code",
   "execution_count": 23,
   "metadata": {
    "id": "vtM9O1hLMgeD"
   },
   "outputs": [
    {
     "name": "stdout",
     "output_type": "stream",
     "text": [
      "A lista com cinco números inteiros: [3750, 7894, 1, 258, 369]\n"
     ]
    }
   ],
   "source": [
    "lista = list()\n",
    "\n",
    "for i in range(5):\n",
    "    num = int(input(f'Digite o {i+1}º número: '))\n",
    "    lista.append(num)\n",
    "\n",
    "print(f'A lista com cinco números inteiros: {lista}')"
   ]
  },
  {
   "cell_type": "markdown",
   "metadata": {
    "id": "p3bTp88HMgeD"
   },
   "source": [
    "#### Questão 4\n",
    "Colete novamente 5 inteiros e imprima a lista em ordem inversa à enviada."
   ]
  },
  {
   "cell_type": "code",
   "execution_count": 29,
   "metadata": {
    "id": "-CGwMIyHMgeD"
   },
   "outputs": [
    {
     "name": "stdout",
     "output_type": "stream",
     "text": [
      "A lista em ordem inversa: [5, 4, 3, 2, 1]\n"
     ]
    }
   ],
   "source": [
    "lista = list()\n",
    "\n",
    "for i in range(5):\n",
    "    num = int(input(f'Digite o {i+1}º número: '))\n",
    "    lista.append(num)\n",
    "    lista.sort(reverse=num)\n",
    "\n",
    "print(f'A lista em ordem inversa: {lista}')    "
   ]
  },
  {
   "cell_type": "markdown",
   "metadata": {
    "id": "eIXd_z1lMgeD"
   },
   "source": [
    "#### Questão 5\n",
    "Faça um programa que, ao inserir um número qualquer, criará uma lista contendo todos os números primos entre 1 e o número digitado."
   ]
  },
  {
   "cell_type": "code",
   "execution_count": 13,
   "metadata": {
    "id": "rj_6GHstMgeE"
   },
   "outputs": [
    {
     "name": "stdout",
     "output_type": "stream",
     "text": [
      "Lista de números primos: [2, 3, 5, 7, 11, 13, 17, 19, 23, 29, 31, 37, 41, 43, 47, 53, 59, 61, 67, 71, 73, 79, 83, 89, 97, 101, 103, 107, 109, 113, 127, 131, 137, 139, 149, 151, 157, 163, 167, 173, 179, 181, 191, 193, 197, 199, 211, 223, 227, 229, 233, 239, 241, 251, 257, 263, 269, 271, 277, 281, 283, 293, 307, 311, 313, 317, 331, 337, 347, 349, 353, 359, 367, 373, 379, 383, 389, 397, 401, 409, 419, 421, 431, 433, 439, 443, 449, 457, 461, 463, 467, 479, 487, 491, 499, 503, 509, 521, 523, 541, 547, 557, 563, 569, 571, 577, 587, 593, 599, 601, 607, 613, 617, 619, 631, 641, 643, 647, 653, 659, 661, 673, 677, 683, 691, 701, 709, 719, 727, 733, 739, 743, 751, 757, 761, 769, 773, 787]\n"
     ]
    }
   ],
   "source": [
    "numero = int(input('Digite um número inteiro: '))\n",
    "\n",
    "primos = []\n",
    "\n",
    "for i in range(2, numero):\n",
    "  primo = True \n",
    "  \n",
    "  for numeros in range(2, i):\n",
    "    if i % numeros == 0:\n",
    "      primo = False\n",
    "      break\n",
    " \n",
    "  if primo:\n",
    "    primos.append(i)\n",
    "\n",
    "print(f'Lista de números primos: {primos}')"
   ]
  },
  {
   "cell_type": "markdown",
   "metadata": {
    "id": "zrbz3ENlMgeE"
   },
   "source": [
    "#### Questão 6\n",
    "Escreva um programa que peça uma data informando o dia, mês e ano e determine se ela é uma data válida para uma análise."
   ]
  },
  {
   "cell_type": "code",
   "execution_count": 2,
   "metadata": {
    "id": "0eYA8UjTMgeE"
   },
   "outputs": [
    {
     "name": "stdout",
     "output_type": "stream",
     "text": [
      "Data válida!\n"
     ]
    }
   ],
   "source": [
    "dia = int(input('Digite o dia: '))\n",
    "mes = int(input('Digite o mês: '))\n",
    "ano = int(input('Digite o ano: '))     \n",
    "    \n",
    "# Verifica se o ano é válido\n",
    "if ano > 0:\n",
    "    # Verifica se o mês é válido\n",
    "    if 1 <= mes <= 12:\n",
    "        # Define o número de dias no mês\n",
    "        if mes in [1, 3, 5, 7, 8, 10, 12]:\n",
    "            dia_mes = 31\n",
    "        elif mes in [4, 6, 9, 11]:\n",
    "            dia_mes = 30\n",
    "        elif mes == 2:\n",
    "            # Verifica se é ano bissexto\n",
    "            if (ano % 4 == 0 and ano % 100 != 0) or (ano % 400 == 0):\n",
    "                dia_mes = 29\n",
    "            else:\n",
    "                dia_mes = 28\n",
    "        # Verifica se o dia é válido\n",
    "        if 1 <= dia <= dia_mes:\n",
    "            print('Data válida!')\n",
    "        else:\n",
    "            print('Dia inválido!')\n",
    "    else:\n",
    "        print('Mês inválido!')\n",
    "else:\n",
    "    print('Ano inválido!')"
   ]
  },
  {
   "cell_type": "markdown",
   "metadata": {
    "id": "ut_4VHdGMgeE"
   },
   "source": [
    "### Momento dos projetos"
   ]
  },
  {
   "cell_type": "markdown",
   "metadata": {
    "id": "G86Z0vD_MgeE"
   },
   "source": [
    "#### Questão 7\n",
    "Para um estudo envolvendo o nível de multiplicação de bactérias em uma colônia, foi coletado o número de bactérias multiplicadas por dia, com base em um processo de duplicação diária e pode ser observado a seguir: `[1.2, 2.1, 3.3, 5.0, 7.8, 11.3, 16.6, 25.1, 37.8, 56.9]`. Tendo esses valores, faça um código que gere uma lista contendo o percentual de crescimento de bactérias por dia, comparando o número de bactérias em cada dia com o número de bactérias do dia anterior. Dica: para calcular o percentual de crescimento usamos a seguinte equação: `100 * (amostra_atual - amostra_passada) / (amostra_passada)`."
   ]
  },
  {
   "cell_type": "code",
   "execution_count": 4,
   "metadata": {
    "id": "PXNO_CFkMgeE"
   },
   "outputs": [
    {
     "name": "stdout",
     "output_type": "stream",
     "text": [
      "Percentual de crescimento de bactérias por dia 50.53\n"
     ]
    }
   ],
   "source": [
    "dupli_diaria = [1.2, 2.1, 3.3, 5.0, 7.8, 11.3, 16.6, 25.1, 37.8, 56.9]\n",
    "percent_dia = list()\n",
    "\n",
    "for i in range(1, len(dupli_diaria)):\n",
    "    amostra_atual = dupli_diaria[i]\n",
    "    amostra_passada = dupli_diaria[i-1]\n",
    "    crescimetno = 100 * (amostra_atual - amostra_passada) / amostra_passada\n",
    "    percent_dia.append(crescimetno)\n",
    "        \n",
    "print(f'Percentual de crescimento de bactérias por dia {crescimetno:.2f}')"
   ]
  },
  {
   "cell_type": "markdown",
   "metadata": {
    "id": "p4nxogpnMgeE"
   },
   "source": [
    "#### Questão 8\n",
    "Para uma seleção de produtos alimentícios, precisamos separar o conjunto de IDs dados por números inteiros, sabendo que os produtos com ID par são doces e os com ID ímpar são amargos. Monte um código que colete 10 IDs. Depois, calcule e mostre a quantidade de produtos doces e amargos."
   ]
  },
  {
   "cell_type": "code",
   "execution_count": 7,
   "metadata": {
    "id": "WqjO2SZkMgeE"
   },
   "outputs": [
    {
     "name": "stdout",
     "output_type": "stream",
     "text": [
      "Quantidade de produtos doces: 8\n",
      "Quantidade de produtos amargos: 2\n"
     ]
    }
   ],
   "source": [
    "ids_doce = list()\n",
    "ids_amargo = list()\n",
    "\n",
    "# Coleta 10 IDs\n",
    "for i in range(10):\n",
    "    id_produto = int(input(f'Digite o ID do produto {i+1}: '))\n",
    "\n",
    "    # Doce ou amargo\n",
    "    if id_produto % 2 == 0:\n",
    "        ids_doce.append(id_produto)\n",
    "    else:\n",
    "        ids_amargo.append(id_produto)\n",
    "\n",
    "# Calcula a quantidade\n",
    "quant_doce = len(ids_doce)\n",
    "quant_amargo = len(ids_amargo)\n",
    "\n",
    "print(f'Quantidade de produtos doces: {quant_doce}')\n",
    "print(f'Quantidade de produtos amargos: {quant_amargo}')"
   ]
  },
  {
   "cell_type": "markdown",
   "metadata": {
    "id": "t5OrLxV6MgeE"
   },
   "source": [
    "#### Questão 9\n",
    "Desenvolva um programa que informa a nota de um aluno de acordo com suas respostas. Ele deve pedir a resposta de um aluno para cada questão e é preciso verificar se a resposta foi igual ao gabarito. Cada questão vale um ponto e existem alternativas:  A, B, C ou D.\n",
    "```\n",
    "Gabarito da Prova:\n",
    "01 - D\n",
    "02 - A\n",
    "03 - C\n",
    "04 - B\n",
    "05 - A\n",
    "06 - D\n",
    "07 - C\n",
    "08 - C\n",
    "09 - A\n",
    "10 - B\n",
    "```"
   ]
  },
  {
   "cell_type": "code",
   "execution_count": 8,
   "metadata": {
    "id": "ytIQDJrQMgeE"
   },
   "outputs": [
    {
     "name": "stdout",
     "output_type": "stream",
     "text": [
      "Nota final: 1\n"
     ]
    }
   ],
   "source": [
    "resposta = list()\n",
    "gabarito = ['D', 'A', 'C', 'B', 'A', 'D', 'C', 'C', 'A', 'B']\n",
    "nota = 0\n",
    "\n",
    "for i in range(0, 10):\n",
    "    resposta.append(input('Digite a resposta da questão: ').upper())\n",
    "\n",
    "for i in range(0, 10):\n",
    "    if resposta[i] == gabarito[i]:\n",
    "        nota += 1\n",
    "        \n",
    "print(f'Nota final: {nota}') "
   ]
  },
  {
   "cell_type": "markdown",
   "metadata": {
    "id": "aSBMzh-AMgeF"
   },
   "source": [
    "#### Questão 10\n",
    "Um instituto de meteorologia deseja fazer um estudo de temperatura média de cada mês do ano. Para isso, você precisa fazer um código que colete e armazene essas temperaturas médias em uma lista. Depois, calcule a média anual das temperaturas e mostre todas as temperaturas acima da média anual, e em que mês elas ocorreram, mostrando os meses por extenso: Janeiro, Fevereiro, etc."
   ]
  },
  {
   "cell_type": "code",
   "execution_count": null,
   "metadata": {
    "id": "ftj04s2uMgeF"
   },
   "outputs": [
    {
     "name": "stdout",
     "output_type": "stream",
     "text": [
      "\n",
      "A média anual das temperaturas é: 25.07°C\n",
      "Meses com temperaturas acima da média anual:\n",
      "Fevereiro: 36.00°C\n",
      "Março: 36.90°C\n",
      "Julho: 31.30°C\n",
      "Agosto: 32.00°C\n",
      "Setembro: 34.80°C\n"
     ]
    }
   ],
   "source": [
    "meses = ['Janeiro', 'Fevereiro', 'Março', 'Abril', 'Maio', 'Junho', \n",
    "         'Julho', 'Agosto', 'Setembro', 'Outubro', 'Novembro', 'Dezembro']\n",
    "\n",
    "# Faz a coelta da temperatura média de cada mês\n",
    "temperaturas = []\n",
    "for mes in meses:\n",
    "    temp = float(input(f'Digite a temperatura média de {mes}: '))\n",
    "    temperaturas.append(temp)\n",
    "    \n",
    "media_anual = sum(temperaturas) / len(temperaturas)\n",
    "\n",
    "meses_acima_media = []\n",
    "for i in range(len(temperaturas)):\n",
    "    if temperaturas[i] > media_anual:\n",
    "        meses_acima_media.append((meses[i], temperaturas[i]))\n",
    "\n",
    "print(f'\\nA média anual das temperaturas é: {media_anual:.2f}°C')\n",
    "print('Meses com temperaturas acima da média anual:')\n",
    "for mes, temp in meses_acima_media:\n",
    "    print(f'{mes}: {temp:.2f}°C')"
   ]
  },
  {
   "cell_type": "markdown",
   "metadata": {
    "id": "0X8S6s4jMgeF"
   },
   "source": [
    "#### Questão 11\n",
    "Uma empresa de e-commerce está interessada em analisar as vendas dos seus produtos. Os dados das vendas foram armazenados em um dicionário:\n",
    "```\n",
    "{'Produto A': 300, 'Produto B': 80, 'Produto C': 60,\n",
    " 'Produto D': 200, 'Produto E': 250, 'Produto F': 30}\n",
    "```\n",
    "Escreva um código que calcule o total de vendas e o produto mais vendido."
   ]
  },
  {
   "cell_type": "code",
   "execution_count": null,
   "metadata": {
    "id": "Xa3DJLtFMgeF"
   },
   "outputs": [
    {
     "name": "stdout",
     "output_type": "stream",
     "text": [
      "Total de vendas: 920\n",
      "Produto mais vendido: Produto A com 300 vendas\n"
     ]
    }
   ],
   "source": [
    "vendas = {'Produto A': 300, 'Produto B': 80, 'Produto C': 60,\n",
    "          'Produto D': 200, 'Produto E': 250, 'Produto F': 30}\n",
    "\n",
    "total_vendas = sum(vendas.values())\n",
    "\n",
    "produto_mais_vendido = max(vendas, key=vendas.get)\n",
    "\n",
    "print(f'Total de vendas: {total_vendas}')\n",
    "print(f'Produto mais vendido: {produto_mais_vendido} com {vendas[produto_mais_vendido]} vendas')"
   ]
  },
  {
   "cell_type": "markdown",
   "metadata": {
    "id": "nrEwf_1ZMgeF"
   },
   "source": [
    "#### Questão 12\n",
    "Uma pesquisa de mercado foi feita para decidir qual design de uma marca infantil mais agrada crianças. A pesquisa foi feita e o votos computados podem ser observados abaixo:\n",
    "```\n",
    "'''\n",
    "Tabela de votos da marca\n",
    "Design 1 - 1334 votos\n",
    "Design 2 - 982 votos\n",
    "Design 3 - 1751 votos\n",
    "Design 4 - 210 votos\n",
    "Design 5 - 1811 votos\n",
    "'''\n",
    "```\n",
    "Adapte os dados fornecidos a você para uma estrutura de dicionário e a partir dele, informe o design vencedor e a porcentagem de votos recebidos.\n"
   ]
  },
  {
   "cell_type": "code",
   "execution_count": null,
   "metadata": {
    "id": "MRPcGR-_MgeF"
   },
   "outputs": [
    {
     "name": "stdout",
     "output_type": "stream",
     "text": [
      "Design vencedor: Design 5 com 1811 votos\n",
      "Porcentagem de votos recebidos: 29.75%\n"
     ]
    }
   ],
   "source": [
    "votos = {\n",
    "    'Design 1': 1334,\n",
    "    'Design 2': 982,\n",
    "    'Design 3': 1751,\n",
    "    'Design 4': 210,\n",
    "    'Design 5': 1811\n",
    "}\n",
    "\n",
    "total_votos = sum(votos.values())\n",
    "design_vencedor = max(votos, key=votos.get)\n",
    "porcentagem_vencedor = (votos[design_vencedor] / total_votos) * 100\n",
    "\n",
    "print(f'Design vencedor: {design_vencedor} com {votos[design_vencedor]} votos')\n",
    "print(f'Porcentagem de votos recebidos: {porcentagem_vencedor:.2f}%')"
   ]
  },
  {
   "cell_type": "markdown",
   "metadata": {
    "id": "HRTFFzKIMgeF"
   },
   "source": [
    "#### Questão 13\n",
    "Os funcionários de um setor da empresa que você trabalha vão receber um abono correspondente a 10% do seu salário devido ao ótimo desempenho do time. O setor financeiro solicitou sua ajuda para a verificação das consequências financeiras que esse abono irá gerar nos recursos. Assim, foi encaminhada para você uma lista com os salários que receberão o abono: `[1172, 1644, 2617, 5130, 5532, 6341, 6650, 7238, 7685, 7782, 7903]`. O abono de cada funcionário não pode ser inferior a 200. Em código, transforme cada um dos salários em chaves de um dicionário e o abono de cada salário no elemento. Depois, informe o total de gastos com o abono, quantos funcionários receberam o abono mínimo e qual o maior valor de abono fornecido.\n"
   ]
  },
  {
   "cell_type": "code",
   "execution_count": 5,
   "metadata": {
    "id": "QsDSCua42bLB"
   },
   "outputs": [
    {
     "name": "stdout",
     "output_type": "stream",
     "text": [
      "Total de gastos com abonos: R$6087.80\n",
      "Funcionários que receberam o abono mínimo: 2\n",
      "Maior valor de abono fornecido: R$790.30\n"
     ]
    }
   ],
   "source": [
    "salarios = [1172, 1644, 2617, 5130, 5532, 6341, 6650, 7238, 7685, 7782, 7903]\n",
    "\n",
    "abonos = {}\n",
    "\n",
    "total_abonos = 0\n",
    "abono_minimo = 200\n",
    "funcionarios_abono = 0\n",
    "\n",
    "for salario in salarios:\n",
    "    abono = max(salario * 0.1, abono_minimo)\n",
    "    abonos[salario] = abono\n",
    "    total_abonos += abono\n",
    "    if abono == abono_minimo:\n",
    "        funcionarios_abono += 1\n",
    "        \n",
    "maior_abono = max(abonos.values())\n",
    "\n",
    "# Exibe os resultados\n",
    "print(f'Total de gastos com abonos: R${total_abonos:.2f}')\n",
    "print(f'Funcionários que receberam o abono mínimo: {funcionarios_abono}')\n",
    "print(f'Maior valor de abono fornecido: R${maior_abono:.2f}')"
   ]
  },
  {
   "cell_type": "markdown",
   "metadata": {
    "id": "6dEXZEwjMlWy"
   },
   "source": [
    "#### Questão 14\n",
    "Uma equipe de cientistas de dados está estudando a diversidade biológica em uma floresta. A equipe fez a coleta de informações sobre o número de espécies de plantas e animais em cada área da floresta e armazenaram essas informações em um dicionário. Nele, a chave descreve a área dos dados e os valores nas listas correspondem às espécies de plantas e animais nas áreas, respectivamente.\n",
    "```\n",
    "{'Área Norte': [2819, 7236],\n",
    " 'Área Leste': [1440, 9492],\n",
    " 'Área Sul': [5969, 7496],\n",
    " 'Área Oeste': [14446, 49688],\n",
    " 'Área Centro': [22558, 45148]}\n",
    "```\n",
    "Escreva um código para calcular a média de espécies por área e identificar a área com a maior diversidade biológica. Dica: use as funções built-in [`sum()`](https://docs.python.org/3/library/functions.html#sum) e [`len()`](https://docs.python.org/3/library/functions.html#len).\n"
   ]
  },
  {
   "cell_type": "code",
   "execution_count": null,
   "metadata": {
    "id": "eQnOUDfYMlWy"
   },
   "outputs": [
    {
     "name": "stdout",
     "output_type": "stream",
     "text": [
      "Média de espécies por área:\n",
      "Área Norte: 5027.50\n",
      "Área Leste: 5466.00\n",
      "Área Sul: 6732.50\n",
      "Área Oeste: 32067.00\n",
      "Área Centro: 33853.00\n",
      "\n",
      "Área com maior diversidade biológica: Área Centro com média de 33853.00 espécies.\n"
     ]
    }
   ],
   "source": [
    "areas = {\n",
    "    'Área Norte': [2819, 7236],\n",
    "    'Área Leste': [1440, 9492],\n",
    "    'Área Sul': [5969, 7496],\n",
    "    'Área Oeste': [14446, 49688],\n",
    "    'Área Centro': [22558, 45148]\n",
    "}\n",
    "\n",
    "# Calcula a média de espécie por área\n",
    "media_especies = {}\n",
    "for area, especies in areas.items():\n",
    "    media_especies[area] = sum(especies) / len(especies)\n",
    "    \n",
    "# Identifica maior diversidade biológica    \n",
    "maior_diversidade = max(media_especies, key=media_especies.get)\n",
    "\n",
    "print('Média de espécies por área:')\n",
    "for area, media in media_especies.items():\n",
    "    print(f'{area}: {media:.2f}')\n",
    "    \n",
    "print(f'\\nÁrea com maior diversidade biológica: {maior_diversidade} com média de {media_especies[maior_diversidade]:.2f} espécies.')"
   ]
  },
  {
   "cell_type": "markdown",
   "metadata": {
    "id": "r0RW2Sy_MlWy"
   },
   "source": [
    "#### Questão 15\n",
    "O setor de RH da sua empresa te pediu uma ajuda para analisar as idades dos funcionários de 4 setores da empresa. Para isso, ele te forneceu os seguintes dados:\n",
    "```\n",
    "{'Setor A': [22, 26, 30, 30, 35, 38, 40, 56, 57, 65],\n",
    " 'Setor B': [22, 24, 26, 33, 41, 49, 50, 54, 60, 64],\n",
    " 'Setor C': [23, 26, 26, 29, 34, 35, 36, 41, 52, 56],\n",
    " 'Setor D': [19, 20, 25, 27, 34, 39, 42, 44, 50, 65]}\n",
    "``` \n",
    "Sabendo que cada setor tem 10 funcionários, construa um código que calcule a média de idade de cada setor, a idade média geral entre todos os setores e quantas pessoas estão acima da idade média geral.\n"
   ]
  },
  {
   "cell_type": "code",
   "execution_count": 7,
   "metadata": {
    "id": "wCiwyKP3MmTz"
   },
   "outputs": [
    {
     "name": "stdout",
     "output_type": "stream",
     "text": [
      "Média de idade por setor:\n",
      "Setor A: 39.90 anos\n",
      "Setor B: 42.30 anos\n",
      "Setor C: 35.80 anos\n",
      "Setor D: 36.50 anos\n",
      "\n",
      "Idade média geral: 38.62 anos\n",
      "Quantidade de pessoas acima da idade média geral: 18\n"
     ]
    }
   ],
   "source": [
    "setores = {\n",
    "    'Setor A': [22, 26, 30, 30, 35, 38, 40, 56, 57, 65],\n",
    "    'Setor B': [22, 24, 26, 33, 41, 49, 50, 54, 60, 64],\n",
    "    'Setor C': [23, 26, 26, 29, 34, 35, 36, 41, 52, 56],\n",
    "    'Setor D': [19, 20, 25, 27, 34, 39, 42, 44, 50, 65]\n",
    "}\n",
    "\n",
    "# Calcula média de idade de cada setor\n",
    "media_setores = {}\n",
    "for setor, idades in setores.items():\n",
    "    media_setores[setor] = sum(idades) / len(idades)\n",
    "\n",
    "# Calcula média geral    \n",
    "idades_totais = []\n",
    "for idades in  setores.values():\n",
    "    for idade in idades:\n",
    "        idades_totais.append(idade)\n",
    "\n",
    "media_geral = sum(idades_totais) / len(idades_totais)\n",
    "\n",
    "# Conta quantas pessoas estão acima da idade média geral\n",
    "acima_media = 0\n",
    "for idade in idades_totais:\n",
    "    if idade > media_geral:\n",
    "        acima_media += 1\n",
    "        \n",
    "print('Média de idade por setor:')\n",
    "for setor, media in media_setores.items():\n",
    "    print(f'{setor}: {media:.2f} anos')\n",
    "    \n",
    "print(f'\\nIdade média geral: {media_geral:.2f} anos')\n",
    "print(f'Quantidade de pessoas acima da idade média geral: {acima_media}')"
   ]
  }
 ],
 "metadata": {
  "colab": {
   "authorship_tag": "ABX9TyNAcHMa4C+Q6J7M1CkYm1Tn",
   "provenance": [],
   "toc_visible": true
  },
  "kernelspec": {
   "display_name": "Python 3",
   "name": "python3"
  },
  "language_info": {
   "codemirror_mode": {
    "name": "ipython",
    "version": 3
   },
   "file_extension": ".py",
   "mimetype": "text/x-python",
   "name": "python",
   "nbconvert_exporter": "python",
   "pygments_lexer": "ipython3",
   "version": "3.13.3"
  }
 },
 "nbformat": 4,
 "nbformat_minor": 0
}
