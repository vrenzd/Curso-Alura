{
 "cells": [
  {
   "cell_type": "markdown",
   "id": "0d4557d8",
   "metadata": {},
   "source": [
    "### Desafio 1: trabalhando em outros contextos"
   ]
  },
  {
   "cell_type": "markdown",
   "id": "45d60c7e",
   "metadata": {},
   "source": [
    "#### Desafio 1.1 - vendas online"
   ]
  },
  {
   "cell_type": "code",
   "execution_count": 15,
   "id": "4a342592",
   "metadata": {},
   "outputs": [
    {
     "data": {
      "application/vnd.microsoft.datawrangler.viewer.v0+json": {
       "columns": [
        {
         "name": "index",
         "rawType": "int64",
         "type": "integer"
        },
        {
         "name": "Data de venda",
         "rawType": "object",
         "type": "string"
        },
        {
         "name": "Cliente",
         "rawType": "object",
         "type": "unknown"
        },
        {
         "name": "Valor da compra",
         "rawType": "object",
         "type": "unknown"
        }
       ],
       "ref": "c7c723e0-87ab-4e5b-80df-d3f7f85ad285",
       "rows": [
        [
         "0",
         "06/06/2022",
         "['@ANA _LUCIA 321', 'DieGO ARMANDIU 210', 'DieGO ARMANDIU 210', 'DieGO ARMANDIU 210']",
         "['R$ 836,5', 'R$ 573,33', 'R$ 392,8', 'R$ 512,34']"
        ],
        [
         "1",
         "07/06/2022",
         "['Isabely JOanes 738', 'Isabely JOanes 738', 'Isabely JOanes 738', 'Isabely JOanes 738']",
         "['R$ 825,31', 'R$ 168,07', 'R$ 339,18', 'R$ 314,69']"
        ],
        [
         "2",
         "08/06/2022",
         "['Isabely JOanes 738', 'JOãO Gabriel 671', 'Julya meireles 914', 'Julya meireles 914']",
         "['R$ 682,05', 'R$ 386,34', 'R$ 622,65', 'R$ 630,79']"
        ],
        [
         "3",
         "09/06/2022",
         "['Julya meireles 914', 'MaRIA Julia 444', 'MaRIA Julia 444', 'MaRIA Julia 444']",
         "['R$ 390,3', 'R$ 759,16', 'R$ 334,47', 'R$ 678,78']"
        ],
        [
         "4",
         "10/06/2022",
         "['MaRIA Julia 444', 'PEDRO PASCO 812', 'Paulo castro 481', 'Thiago fritzz 883']",
         "['R$ 314,24', 'R$ 311,15', 'R$ 899,16', 'R$ 885,24']"
        ]
       ],
       "shape": {
        "columns": 3,
        "rows": 5
       }
      },
      "text/html": [
       "<div>\n",
       "<style scoped>\n",
       "    .dataframe tbody tr th:only-of-type {\n",
       "        vertical-align: middle;\n",
       "    }\n",
       "\n",
       "    .dataframe tbody tr th {\n",
       "        vertical-align: top;\n",
       "    }\n",
       "\n",
       "    .dataframe thead th {\n",
       "        text-align: right;\n",
       "    }\n",
       "</style>\n",
       "<table border=\"1\" class=\"dataframe\">\n",
       "  <thead>\n",
       "    <tr style=\"text-align: right;\">\n",
       "      <th></th>\n",
       "      <th>Data de venda</th>\n",
       "      <th>Cliente</th>\n",
       "      <th>Valor da compra</th>\n",
       "    </tr>\n",
       "  </thead>\n",
       "  <tbody>\n",
       "    <tr>\n",
       "      <th>0</th>\n",
       "      <td>06/06/2022</td>\n",
       "      <td>[@ANA _LUCIA 321, DieGO ARMANDIU 210, DieGO AR...</td>\n",
       "      <td>[R$ 836,5, R$ 573,33, R$ 392,8, R$ 512,34]</td>\n",
       "    </tr>\n",
       "    <tr>\n",
       "      <th>1</th>\n",
       "      <td>07/06/2022</td>\n",
       "      <td>[Isabely JOanes 738, Isabely JOanes 738, Isabe...</td>\n",
       "      <td>[R$ 825,31, R$ 168,07, R$ 339,18, R$ 314,69]</td>\n",
       "    </tr>\n",
       "    <tr>\n",
       "      <th>2</th>\n",
       "      <td>08/06/2022</td>\n",
       "      <td>[Isabely JOanes 738, JOãO Gabriel 671, Julya m...</td>\n",
       "      <td>[R$ 682,05, R$ 386,34, R$ 622,65, R$ 630,79]</td>\n",
       "    </tr>\n",
       "    <tr>\n",
       "      <th>3</th>\n",
       "      <td>09/06/2022</td>\n",
       "      <td>[Julya meireles 914, MaRIA Julia 444, MaRIA Ju...</td>\n",
       "      <td>[R$ 390,3, R$ 759,16, R$ 334,47, R$ 678,78]</td>\n",
       "    </tr>\n",
       "    <tr>\n",
       "      <th>4</th>\n",
       "      <td>10/06/2022</td>\n",
       "      <td>[MaRIA Julia 444, PEDRO PASCO 812, Paulo castr...</td>\n",
       "      <td>[R$ 314,24, R$ 311,15, R$ 899,16, R$ 885,24]</td>\n",
       "    </tr>\n",
       "  </tbody>\n",
       "</table>\n",
       "</div>"
      ],
      "text/plain": [
       "  Data de venda                                            Cliente  \\\n",
       "0    06/06/2022  [@ANA _LUCIA 321, DieGO ARMANDIU 210, DieGO AR...   \n",
       "1    07/06/2022  [Isabely JOanes 738, Isabely JOanes 738, Isabe...   \n",
       "2    08/06/2022  [Isabely JOanes 738, JOãO Gabriel 671, Julya m...   \n",
       "3    09/06/2022  [Julya meireles 914, MaRIA Julia 444, MaRIA Ju...   \n",
       "4    10/06/2022  [MaRIA Julia 444, PEDRO PASCO 812, Paulo castr...   \n",
       "\n",
       "                                Valor da compra  \n",
       "0    [R$ 836,5, R$ 573,33, R$ 392,8, R$ 512,34]  \n",
       "1  [R$ 825,31, R$ 168,07, R$ 339,18, R$ 314,69]  \n",
       "2  [R$ 682,05, R$ 386,34, R$ 622,65, R$ 630,79]  \n",
       "3   [R$ 390,3, R$ 759,16, R$ 334,47, R$ 678,78]  \n",
       "4  [R$ 314,24, R$ 311,15, R$ 899,16, R$ 885,24]  "
      ]
     },
     "execution_count": 15,
     "metadata": {},
     "output_type": "execute_result"
    }
   ],
   "source": [
    "# Import do pandas\n",
    "import pandas as pd\n",
    "# Ler o arquivo json com read_json\n",
    "dados = pd.read_json('dados_vendas_clientes.json')\n",
    "# Aplicar json_normalize na coluna dados_vendas\n",
    "dados = pd.json_normalize(dados['dados_vendas'])\n",
    "# Mostrar valores\n",
    "dados"
   ]
  },
  {
   "cell_type": "markdown",
   "id": "bb165499",
   "metadata": {},
   "source": [
    "### Desafio 1.1"
   ]
  },
  {
   "cell_type": "code",
   "execution_count": 16,
   "id": "144eaaa5",
   "metadata": {},
   "outputs": [
    {
     "name": "stdout",
     "output_type": "stream",
     "text": [
      "<class 'pandas.core.frame.DataFrame'>\n",
      "RangeIndex: 20 entries, 0 to 19\n",
      "Data columns (total 3 columns):\n",
      " #   Column           Non-Null Count  Dtype \n",
      "---  ------           --------------  ----- \n",
      " 0   Data de venda    20 non-null     object\n",
      " 1   Cliente          20 non-null     object\n",
      " 2   Valor da compra  20 non-null     object\n",
      "dtypes: object(3)\n",
      "memory usage: 612.0+ bytes\n",
      "<class 'pandas.core.frame.DataFrame'>\n",
      "RangeIndex: 20 entries, 0 to 19\n",
      "Data columns (total 3 columns):\n",
      " #   Column           Non-Null Count  Dtype  \n",
      "---  ------           --------------  -----  \n",
      " 0   Data de venda    20 non-null     object \n",
      " 1   Cliente          20 non-null     object \n",
      " 2   Valor da compra  20 non-null     float64\n",
      "dtypes: float64(1), object(2)\n",
      "memory usage: 612.0+ bytes\n"
     ]
    }
   ],
   "source": [
    "# Coletar os valores das colunas e verificar\n",
    "colunas = list(dados.columns)\n",
    "colunas\n",
    "\n",
    "# Destrinchar as listas com explode\n",
    "dados = dados.explode(colunas[1:])\n",
    "# Resetar os index das linhas\n",
    "dados.reset_index(drop=True,inplace=True)\n",
    "# Observar o DataFrame\n",
    "dados\n",
    "\n",
    "# Verificar os tipos de dados com info\n",
    "dados.info()\n",
    "\n",
    "# A coluna numérica é a 'Valor da compra'\n",
    "dados['Valor da compra']\n",
    "\n",
    "# Iniciar a transformação\n",
    "# Import da biblioteca numpy\n",
    "import numpy as np\n",
    "# Remover os textos presentes na base\n",
    "# Trocar as vírgulas separadoras do decimal por ponto\n",
    "dados['Valor da compra'] = dados['Valor da compra'].apply(lambda x: x.replace('R$ ', '').replace(',','.').strip())\n",
    "# Alterar os tipo de dado para float\n",
    "dados['Valor da compra'] = dados['Valor da compra'].astype(np.float64)\n",
    "# Verificar a transformação\n",
    "dados.info()"
   ]
  },
  {
   "cell_type": "markdown",
   "id": "33be9b66",
   "metadata": {},
   "source": [
    "### Desafio 1.3"
   ]
  },
  {
   "cell_type": "code",
   "execution_count": 17,
   "id": "b3f3ed9f",
   "metadata": {},
   "outputs": [
    {
     "data": {
      "application/vnd.microsoft.datawrangler.viewer.v0+json": {
       "columns": [
        {
         "name": "index",
         "rawType": "int64",
         "type": "integer"
        },
        {
         "name": "Data de venda",
         "rawType": "object",
         "type": "string"
        },
        {
         "name": "Cliente",
         "rawType": "object",
         "type": "string"
        },
        {
         "name": "Valor da compra",
         "rawType": "float64",
         "type": "float"
        }
       ],
       "ref": "5ebef167-f5f3-4a7d-b7f6-5cc012e3c5cc",
       "rows": [
        [
         "0",
         "06/06/2022",
         "ana lucia",
         "836.5"
        ],
        [
         "1",
         "06/06/2022",
         "diego armandiu",
         "573.33"
        ],
        [
         "2",
         "06/06/2022",
         "diego armandiu",
         "392.8"
        ],
        [
         "3",
         "06/06/2022",
         "diego armandiu",
         "512.34"
        ],
        [
         "4",
         "07/06/2022",
         "isabely joanes",
         "825.31"
        ]
       ],
       "shape": {
        "columns": 3,
        "rows": 5
       }
      },
      "text/html": [
       "<div>\n",
       "<style scoped>\n",
       "    .dataframe tbody tr th:only-of-type {\n",
       "        vertical-align: middle;\n",
       "    }\n",
       "\n",
       "    .dataframe tbody tr th {\n",
       "        vertical-align: top;\n",
       "    }\n",
       "\n",
       "    .dataframe thead th {\n",
       "        text-align: right;\n",
       "    }\n",
       "</style>\n",
       "<table border=\"1\" class=\"dataframe\">\n",
       "  <thead>\n",
       "    <tr style=\"text-align: right;\">\n",
       "      <th></th>\n",
       "      <th>Data de venda</th>\n",
       "      <th>Cliente</th>\n",
       "      <th>Valor da compra</th>\n",
       "    </tr>\n",
       "  </thead>\n",
       "  <tbody>\n",
       "    <tr>\n",
       "      <th>0</th>\n",
       "      <td>06/06/2022</td>\n",
       "      <td>ana lucia</td>\n",
       "      <td>836.50</td>\n",
       "    </tr>\n",
       "    <tr>\n",
       "      <th>1</th>\n",
       "      <td>06/06/2022</td>\n",
       "      <td>diego armandiu</td>\n",
       "      <td>573.33</td>\n",
       "    </tr>\n",
       "    <tr>\n",
       "      <th>2</th>\n",
       "      <td>06/06/2022</td>\n",
       "      <td>diego armandiu</td>\n",
       "      <td>392.80</td>\n",
       "    </tr>\n",
       "    <tr>\n",
       "      <th>3</th>\n",
       "      <td>06/06/2022</td>\n",
       "      <td>diego armandiu</td>\n",
       "      <td>512.34</td>\n",
       "    </tr>\n",
       "    <tr>\n",
       "      <th>4</th>\n",
       "      <td>07/06/2022</td>\n",
       "      <td>isabely joanes</td>\n",
       "      <td>825.31</td>\n",
       "    </tr>\n",
       "  </tbody>\n",
       "</table>\n",
       "</div>"
      ],
      "text/plain": [
       "  Data de venda         Cliente  Valor da compra\n",
       "0    06/06/2022       ana lucia           836.50\n",
       "1    06/06/2022  diego armandiu           573.33\n",
       "2    06/06/2022  diego armandiu           392.80\n",
       "3    06/06/2022  diego armandiu           512.34\n",
       "4    07/06/2022  isabely joanes           825.31"
      ]
     },
     "execution_count": 17,
     "metadata": {},
     "output_type": "execute_result"
    }
   ],
   "source": [
    "# Transformar os textos de Cliente para texto em minúsculo\n",
    "dados['Cliente'] = dados['Cliente'].str.lower()\n",
    "# Verificar o resultado\n",
    "dados.head()\n",
    "\n",
    "# Opção de substituição - necessário verificar o resultado da substituição\n",
    "# O regex não seleciona todas as letras de a-z e espaços em branco ' '\n",
    "# Tudo que satisfaz o regex é apagado\n",
    "dados['Cliente'].str.replace('[^a-z ]', '', regex=True)\n",
    "\n",
    "# Realizar a substituição dos dados na coluna textual\n",
    "dados['Cliente'] = dados['Cliente'].str.replace('[^a-z ]', '', regex=True).str.strip()\n",
    "# Visualizar o resultado final\n",
    "dados.head()"
   ]
  },
  {
   "cell_type": "markdown",
   "id": "64bf412d",
   "metadata": {},
   "source": [
    "### Desafio 1.4"
   ]
  },
  {
   "cell_type": "code",
   "execution_count": 18,
   "id": "cf17c4b7",
   "metadata": {},
   "outputs": [
    {
     "name": "stdout",
     "output_type": "stream",
     "text": [
      "<class 'pandas.core.frame.DataFrame'>\n",
      "RangeIndex: 20 entries, 0 to 19\n",
      "Data columns (total 3 columns):\n",
      " #   Column           Non-Null Count  Dtype         \n",
      "---  ------           --------------  -----         \n",
      " 0   Data de venda    20 non-null     datetime64[ns]\n",
      " 1   Cliente          20 non-null     object        \n",
      " 2   Valor da compra  20 non-null     float64       \n",
      "dtypes: datetime64[ns](1), float64(1), object(1)\n",
      "memory usage: 612.0+ bytes\n"
     ]
    },
    {
     "data": {
      "application/vnd.microsoft.datawrangler.viewer.v0+json": {
       "columns": [
        {
         "name": "Cliente",
         "rawType": "object",
         "type": "string"
        },
        {
         "name": "Valor da compra",
         "rawType": "float64",
         "type": "float"
        }
       ],
       "ref": "e9bb16a2-aab3-451c-9831-ac3445b8f9fd",
       "rows": [
        [
         "ana lucia",
         "836.5"
        ],
        [
         "diego armandiu",
         "1478.47"
        ],
        [
         "isabely joanes",
         "2329.3"
        ],
        [
         "joo gabriel",
         "386.34"
        ],
        [
         "julya meireles",
         "1643.74"
        ],
        [
         "maria julia",
         "2086.65"
        ],
        [
         "paulo castro",
         "899.16"
        ],
        [
         "pedro pasco",
         "311.15"
        ],
        [
         "thiago fritzz",
         "885.24"
        ]
       ],
       "shape": {
        "columns": 1,
        "rows": 9
       }
      },
      "text/plain": [
       "Cliente\n",
       "ana lucia          836.50\n",
       "diego armandiu    1478.47\n",
       "isabely joanes    2329.30\n",
       "joo gabriel        386.34\n",
       "julya meireles    1643.74\n",
       "maria julia       2086.65\n",
       "paulo castro       899.16\n",
       "pedro pasco        311.15\n",
       "thiago fritzz      885.24\n",
       "Name: Valor da compra, dtype: float64"
      ]
     },
     "execution_count": 18,
     "metadata": {},
     "output_type": "execute_result"
    }
   ],
   "source": [
    "# Transformar para o tipo datetime definindo o formato de data como DD/MM/AAAA ('%d/%m/%Y')\n",
    "dados['Data de venda'] = pd.to_datetime(dados['Data de venda'], format='%d/%m/%Y')\n",
    "# Visualizar o resultado\n",
    "dados\n",
    "\n",
    "# Verificar o resultado da transformação\n",
    "dados.info()\n",
    "\n",
    "# Calcular o total arrecadado em compras por cada cliente\n",
    "total_compras = dados.groupby(['Cliente'])['Valor da compra'].sum()\n",
    "# Visualizar o resultado\n",
    "total_compras"
   ]
  },
  {
   "cell_type": "code",
   "execution_count": null,
   "id": "6c66621d",
   "metadata": {},
   "outputs": [],
   "source": []
  },
  {
   "cell_type": "markdown",
   "id": "6a4a8348",
   "metadata": {},
   "source": [
    "#### Desafio 2 - administração de condomínios"
   ]
  },
  {
   "cell_type": "code",
   "execution_count": 19,
   "id": "f894290c",
   "metadata": {},
   "outputs": [
    {
     "data": {
      "application/vnd.microsoft.datawrangler.viewer.v0+json": {
       "columns": [
        {
         "name": "index",
         "rawType": "int64",
         "type": "integer"
        },
        {
         "name": "apartamento",
         "rawType": "object",
         "type": "string"
        },
        {
         "name": "datas_combinadas_pagamento",
         "rawType": "object",
         "type": "unknown"
        },
        {
         "name": "datas_de_pagamento",
         "rawType": "object",
         "type": "unknown"
        },
        {
         "name": "valor_aluguel",
         "rawType": "object",
         "type": "unknown"
        }
       ],
       "ref": "fac01d6f-054d-4076-acdc-1ce30f0b7175",
       "rows": [
        [
         "0",
         "A101 (blocoAP)",
         "['01/06/2022', '01/07/2022']",
         "['05/06/2022', '03/07/2022']",
         "['$ 1000,0 reais', '$ 2500,0 reais']"
        ],
        [
         "1",
         "A102 (blocoAP)",
         "['02/06/2022', '02/07/2022']",
         "['02/06/2022', '06/07/2022']",
         "['$ 1100,0 reais', '$ 2600,0 reais']"
        ],
        [
         "2",
         "B201 (blocoAP)",
         "['03/06/2022', '03/07/2022']",
         "['07/06/2022', '03/07/2022']",
         "['$ 1200,0 reais', '$ 2700,0 reais']"
        ],
        [
         "3",
         "B202 (blocoAP)",
         "['04/06/2022', '04/07/2022']",
         "['07/06/2022', '05/07/2022']",
         "['$ 1300,0 reais', '$ 2800,0 reais']"
        ],
        [
         "4",
         "C301 (blocoAP)",
         "['05/06/2022', '05/07/2022']",
         "['10/06/2022', '09/07/2022']",
         "['$ 1400,0 reais', '$ 2900,0 reais']"
        ],
        [
         "5",
         "C302 (blocoAP)",
         "['06/06/2022', '06/07/2022']",
         "['08/06/2022', '12/07/2022']",
         "['$ 1500,0 reais', '$ 1200,0 reais']"
        ],
        [
         "6",
         "D401 (blocoAP)",
         "['07/06/2022', '07/07/2022']",
         "['07/06/2022', '09/07/2022']",
         "['$ 1600,0 reais', '$ 1300,0 reais']"
        ],
        [
         "7",
         "D402 (blocoAP)",
         "['08/06/2022', '08/07/2022']",
         "['10/06/2022', '14/07/2022']",
         "['$ 1700,0 reais', '$ 1400,0 reais']"
        ],
        [
         "8",
         "E501 (blocoAP)",
         "['09/06/2022', '09/07/2022']",
         "['10/06/2022', '09/07/2022']",
         "['$ 1800,0 reais', '$ 1500,0 reais']"
        ],
        [
         "9",
         "E502 (blocoAP)",
         "['10/06/2022', '10/07/2022']",
         "['16/06/2022', '12/07/2022']",
         "['$ 1900,0 reais', '$ 1600,0 reais']"
        ],
        [
         "10",
         "F601 (blocoAP)",
         "['11/06/2022', '11/07/2022']",
         "['17/06/2022', '13/07/2022']",
         "['$ 2000,0 reais', '$ 1000,0 reais']"
        ],
        [
         "11",
         "F602 (blocoAP)",
         "['12/06/2022', '12/07/2022']",
         "['15/06/2022', '12/07/2022']",
         "['$ 2100,0 reais', '$ 1100,0 reais']"
        ],
        [
         "12",
         "G701 (blocoAP)",
         "['13/06/2022', '13/07/2022']",
         "['19/06/2022', '20/07/2022']",
         "['$ 2200,0 reais', '$ 1200,0 reais']"
        ],
        [
         "13",
         "G702 (blocoAP)",
         "['14/06/2022', '14/07/2022']",
         "['15/06/2022', '17/07/2022']",
         "['$ 2300,0 reais', '$ 2100,0 reais']"
        ],
        [
         "14",
         "H801 (blocoAP)",
         "['15/06/2022', '15/07/2022']",
         "['18/06/2022', '16/07/2022']",
         "['$ 2400,0 reais', '$ 2200,0 reais']"
        ]
       ],
       "shape": {
        "columns": 4,
        "rows": 15
       }
      },
      "text/html": [
       "<div>\n",
       "<style scoped>\n",
       "    .dataframe tbody tr th:only-of-type {\n",
       "        vertical-align: middle;\n",
       "    }\n",
       "\n",
       "    .dataframe tbody tr th {\n",
       "        vertical-align: top;\n",
       "    }\n",
       "\n",
       "    .dataframe thead th {\n",
       "        text-align: right;\n",
       "    }\n",
       "</style>\n",
       "<table border=\"1\" class=\"dataframe\">\n",
       "  <thead>\n",
       "    <tr style=\"text-align: right;\">\n",
       "      <th></th>\n",
       "      <th>apartamento</th>\n",
       "      <th>datas_combinadas_pagamento</th>\n",
       "      <th>datas_de_pagamento</th>\n",
       "      <th>valor_aluguel</th>\n",
       "    </tr>\n",
       "  </thead>\n",
       "  <tbody>\n",
       "    <tr>\n",
       "      <th>0</th>\n",
       "      <td>A101 (blocoAP)</td>\n",
       "      <td>[01/06/2022, 01/07/2022]</td>\n",
       "      <td>[05/06/2022, 03/07/2022]</td>\n",
       "      <td>[$ 1000,0 reais, $ 2500,0 reais]</td>\n",
       "    </tr>\n",
       "    <tr>\n",
       "      <th>1</th>\n",
       "      <td>A102 (blocoAP)</td>\n",
       "      <td>[02/06/2022, 02/07/2022]</td>\n",
       "      <td>[02/06/2022, 06/07/2022]</td>\n",
       "      <td>[$ 1100,0 reais, $ 2600,0 reais]</td>\n",
       "    </tr>\n",
       "    <tr>\n",
       "      <th>2</th>\n",
       "      <td>B201 (blocoAP)</td>\n",
       "      <td>[03/06/2022, 03/07/2022]</td>\n",
       "      <td>[07/06/2022, 03/07/2022]</td>\n",
       "      <td>[$ 1200,0 reais, $ 2700,0 reais]</td>\n",
       "    </tr>\n",
       "    <tr>\n",
       "      <th>3</th>\n",
       "      <td>B202 (blocoAP)</td>\n",
       "      <td>[04/06/2022, 04/07/2022]</td>\n",
       "      <td>[07/06/2022, 05/07/2022]</td>\n",
       "      <td>[$ 1300,0 reais, $ 2800,0 reais]</td>\n",
       "    </tr>\n",
       "    <tr>\n",
       "      <th>4</th>\n",
       "      <td>C301 (blocoAP)</td>\n",
       "      <td>[05/06/2022, 05/07/2022]</td>\n",
       "      <td>[10/06/2022, 09/07/2022]</td>\n",
       "      <td>[$ 1400,0 reais, $ 2900,0 reais]</td>\n",
       "    </tr>\n",
       "    <tr>\n",
       "      <th>5</th>\n",
       "      <td>C302 (blocoAP)</td>\n",
       "      <td>[06/06/2022, 06/07/2022]</td>\n",
       "      <td>[08/06/2022, 12/07/2022]</td>\n",
       "      <td>[$ 1500,0 reais, $ 1200,0 reais]</td>\n",
       "    </tr>\n",
       "    <tr>\n",
       "      <th>6</th>\n",
       "      <td>D401 (blocoAP)</td>\n",
       "      <td>[07/06/2022, 07/07/2022]</td>\n",
       "      <td>[07/06/2022, 09/07/2022]</td>\n",
       "      <td>[$ 1600,0 reais, $ 1300,0 reais]</td>\n",
       "    </tr>\n",
       "    <tr>\n",
       "      <th>7</th>\n",
       "      <td>D402 (blocoAP)</td>\n",
       "      <td>[08/06/2022, 08/07/2022]</td>\n",
       "      <td>[10/06/2022, 14/07/2022]</td>\n",
       "      <td>[$ 1700,0 reais, $ 1400,0 reais]</td>\n",
       "    </tr>\n",
       "    <tr>\n",
       "      <th>8</th>\n",
       "      <td>E501 (blocoAP)</td>\n",
       "      <td>[09/06/2022, 09/07/2022]</td>\n",
       "      <td>[10/06/2022, 09/07/2022]</td>\n",
       "      <td>[$ 1800,0 reais, $ 1500,0 reais]</td>\n",
       "    </tr>\n",
       "    <tr>\n",
       "      <th>9</th>\n",
       "      <td>E502 (blocoAP)</td>\n",
       "      <td>[10/06/2022, 10/07/2022]</td>\n",
       "      <td>[16/06/2022, 12/07/2022]</td>\n",
       "      <td>[$ 1900,0 reais, $ 1600,0 reais]</td>\n",
       "    </tr>\n",
       "    <tr>\n",
       "      <th>10</th>\n",
       "      <td>F601 (blocoAP)</td>\n",
       "      <td>[11/06/2022, 11/07/2022]</td>\n",
       "      <td>[17/06/2022, 13/07/2022]</td>\n",
       "      <td>[$ 2000,0 reais, $ 1000,0 reais]</td>\n",
       "    </tr>\n",
       "    <tr>\n",
       "      <th>11</th>\n",
       "      <td>F602 (blocoAP)</td>\n",
       "      <td>[12/06/2022, 12/07/2022]</td>\n",
       "      <td>[15/06/2022, 12/07/2022]</td>\n",
       "      <td>[$ 2100,0 reais, $ 1100,0 reais]</td>\n",
       "    </tr>\n",
       "    <tr>\n",
       "      <th>12</th>\n",
       "      <td>G701 (blocoAP)</td>\n",
       "      <td>[13/06/2022, 13/07/2022]</td>\n",
       "      <td>[19/06/2022, 20/07/2022]</td>\n",
       "      <td>[$ 2200,0 reais, $ 1200,0 reais]</td>\n",
       "    </tr>\n",
       "    <tr>\n",
       "      <th>13</th>\n",
       "      <td>G702 (blocoAP)</td>\n",
       "      <td>[14/06/2022, 14/07/2022]</td>\n",
       "      <td>[15/06/2022, 17/07/2022]</td>\n",
       "      <td>[$ 2300,0 reais, $ 2100,0 reais]</td>\n",
       "    </tr>\n",
       "    <tr>\n",
       "      <th>14</th>\n",
       "      <td>H801 (blocoAP)</td>\n",
       "      <td>[15/06/2022, 15/07/2022]</td>\n",
       "      <td>[18/06/2022, 16/07/2022]</td>\n",
       "      <td>[$ 2400,0 reais, $ 2200,0 reais]</td>\n",
       "    </tr>\n",
       "  </tbody>\n",
       "</table>\n",
       "</div>"
      ],
      "text/plain": [
       "       apartamento datas_combinadas_pagamento        datas_de_pagamento  \\\n",
       "0   A101 (blocoAP)   [01/06/2022, 01/07/2022]  [05/06/2022, 03/07/2022]   \n",
       "1   A102 (blocoAP)   [02/06/2022, 02/07/2022]  [02/06/2022, 06/07/2022]   \n",
       "2   B201 (blocoAP)   [03/06/2022, 03/07/2022]  [07/06/2022, 03/07/2022]   \n",
       "3   B202 (blocoAP)   [04/06/2022, 04/07/2022]  [07/06/2022, 05/07/2022]   \n",
       "4   C301 (blocoAP)   [05/06/2022, 05/07/2022]  [10/06/2022, 09/07/2022]   \n",
       "5   C302 (blocoAP)   [06/06/2022, 06/07/2022]  [08/06/2022, 12/07/2022]   \n",
       "6   D401 (blocoAP)   [07/06/2022, 07/07/2022]  [07/06/2022, 09/07/2022]   \n",
       "7   D402 (blocoAP)   [08/06/2022, 08/07/2022]  [10/06/2022, 14/07/2022]   \n",
       "8   E501 (blocoAP)   [09/06/2022, 09/07/2022]  [10/06/2022, 09/07/2022]   \n",
       "9   E502 (blocoAP)   [10/06/2022, 10/07/2022]  [16/06/2022, 12/07/2022]   \n",
       "10  F601 (blocoAP)   [11/06/2022, 11/07/2022]  [17/06/2022, 13/07/2022]   \n",
       "11  F602 (blocoAP)   [12/06/2022, 12/07/2022]  [15/06/2022, 12/07/2022]   \n",
       "12  G701 (blocoAP)   [13/06/2022, 13/07/2022]  [19/06/2022, 20/07/2022]   \n",
       "13  G702 (blocoAP)   [14/06/2022, 14/07/2022]  [15/06/2022, 17/07/2022]   \n",
       "14  H801 (blocoAP)   [15/06/2022, 15/07/2022]  [18/06/2022, 16/07/2022]   \n",
       "\n",
       "                       valor_aluguel  \n",
       "0   [$ 1000,0 reais, $ 2500,0 reais]  \n",
       "1   [$ 1100,0 reais, $ 2600,0 reais]  \n",
       "2   [$ 1200,0 reais, $ 2700,0 reais]  \n",
       "3   [$ 1300,0 reais, $ 2800,0 reais]  \n",
       "4   [$ 1400,0 reais, $ 2900,0 reais]  \n",
       "5   [$ 1500,0 reais, $ 1200,0 reais]  \n",
       "6   [$ 1600,0 reais, $ 1300,0 reais]  \n",
       "7   [$ 1700,0 reais, $ 1400,0 reais]  \n",
       "8   [$ 1800,0 reais, $ 1500,0 reais]  \n",
       "9   [$ 1900,0 reais, $ 1600,0 reais]  \n",
       "10  [$ 2000,0 reais, $ 1000,0 reais]  \n",
       "11  [$ 2100,0 reais, $ 1100,0 reais]  \n",
       "12  [$ 2200,0 reais, $ 1200,0 reais]  \n",
       "13  [$ 2300,0 reais, $ 2100,0 reais]  \n",
       "14  [$ 2400,0 reais, $ 2200,0 reais]  "
      ]
     },
     "execution_count": 19,
     "metadata": {},
     "output_type": "execute_result"
    }
   ],
   "source": [
    "# Import do pandas\n",
    "import pandas as pd\n",
    "# Ler o arquivo json com read_json\n",
    "dados = pd.read_json('dados_locacao_imoveis.json')\n",
    "# Aplicar json_normalize na coluna dados_locacao\n",
    "dados = pd.json_normalize(dados['dados_locacao'])\n",
    "# Mostrar valores\n",
    "dados"
   ]
  },
  {
   "cell_type": "markdown",
   "id": "35502417",
   "metadata": {},
   "source": [
    "### Desafio 2.1"
   ]
  },
  {
   "cell_type": "code",
   "execution_count": 20,
   "id": "b5010921",
   "metadata": {},
   "outputs": [
    {
     "name": "stdout",
     "output_type": "stream",
     "text": [
      "<class 'pandas.core.frame.DataFrame'>\n",
      "RangeIndex: 30 entries, 0 to 29\n",
      "Data columns (total 4 columns):\n",
      " #   Column                      Non-Null Count  Dtype \n",
      "---  ------                      --------------  ----- \n",
      " 0   apartamento                 30 non-null     object\n",
      " 1   datas_combinadas_pagamento  30 non-null     object\n",
      " 2   datas_de_pagamento          30 non-null     object\n",
      " 3   valor_aluguel               30 non-null     object\n",
      "dtypes: object(4)\n",
      "memory usage: 1.1+ KB\n",
      "<class 'pandas.core.frame.DataFrame'>\n",
      "RangeIndex: 30 entries, 0 to 29\n",
      "Data columns (total 4 columns):\n",
      " #   Column                      Non-Null Count  Dtype  \n",
      "---  ------                      --------------  -----  \n",
      " 0   apartamento                 30 non-null     object \n",
      " 1   datas_combinadas_pagamento  30 non-null     object \n",
      " 2   datas_de_pagamento          30 non-null     object \n",
      " 3   valor_aluguel               30 non-null     float64\n",
      "dtypes: float64(1), object(3)\n",
      "memory usage: 1.1+ KB\n"
     ]
    }
   ],
   "source": [
    "# Coletar os valores das colunas e verificar\n",
    "colunas = list(dados.columns)\n",
    "colunas\n",
    "\n",
    "# Destrinchar as listas com explode\n",
    "dados = dados.explode(colunas[1:])\n",
    "# Resetar os index das linhas\n",
    "dados.reset_index(drop=True,inplace=True)\n",
    "# Observar o DataFrame\n",
    "dados\n",
    "\n",
    "# Verificar os tipos de dados com info\n",
    "dados.info()\n",
    "\n",
    "# A coluna numérica é a 'valor_aluguel'\n",
    "dados['valor_aluguel']\n",
    "\n",
    "# Iniciar a transformação\n",
    "# Import da biblioteca numpy\n",
    "import numpy as np\n",
    "# Remover os textos presentes na base\n",
    "# Trocar as vírgulas separadoras do decimal por ponto\n",
    "dados['valor_aluguel'] = dados['valor_aluguel'].apply(lambda x: x.replace('$ ', '').replace(' reais', '').replace(',','.').strip())\n",
    "# Alterar os tipo de dado para float\n",
    "dados['valor_aluguel'] = dados['valor_aluguel'].astype(np.float64)\n",
    "# Verificar a transformação\n",
    "dados.info()"
   ]
  },
  {
   "cell_type": "markdown",
   "id": "2ca70ce3",
   "metadata": {},
   "source": [
    "### Desafio 2.2"
   ]
  },
  {
   "cell_type": "code",
   "execution_count": 21,
   "id": "8f7c9678",
   "metadata": {},
   "outputs": [
    {
     "name": "stderr",
     "output_type": "stream",
     "text": [
      "<>:3: SyntaxWarning: invalid escape sequence '\\('\n",
      "<>:6: SyntaxWarning: invalid escape sequence '\\('\n",
      "<>:3: SyntaxWarning: invalid escape sequence '\\('\n",
      "<>:6: SyntaxWarning: invalid escape sequence '\\('\n",
      "C:\\Users\\victo\\AppData\\Local\\Temp\\ipykernel_20940\\4032740271.py:3: SyntaxWarning: invalid escape sequence '\\('\n",
      "  dados['apartamento'].str.replace(' \\(blocoAP\\)', '', regex=True)\n",
      "C:\\Users\\victo\\AppData\\Local\\Temp\\ipykernel_20940\\4032740271.py:6: SyntaxWarning: invalid escape sequence '\\('\n",
      "  dados['apartamento'] = dados['apartamento'].str.replace(' \\(blocoAP\\)', '', regex=True)\n"
     ]
    },
    {
     "data": {
      "application/vnd.microsoft.datawrangler.viewer.v0+json": {
       "columns": [
        {
         "name": "index",
         "rawType": "int64",
         "type": "integer"
        },
        {
         "name": "apartamento",
         "rawType": "object",
         "type": "string"
        },
        {
         "name": "datas_combinadas_pagamento",
         "rawType": "object",
         "type": "string"
        },
        {
         "name": "datas_de_pagamento",
         "rawType": "object",
         "type": "string"
        },
        {
         "name": "valor_aluguel",
         "rawType": "float64",
         "type": "float"
        }
       ],
       "ref": "75020bf5-a590-48cf-bf3c-4b7572bd73de",
       "rows": [
        [
         "0",
         "A101",
         "01/06/2022",
         "05/06/2022",
         "1000.0"
        ],
        [
         "1",
         "A101",
         "01/07/2022",
         "03/07/2022",
         "2500.0"
        ],
        [
         "2",
         "A102",
         "02/06/2022",
         "02/06/2022",
         "1100.0"
        ],
        [
         "3",
         "A102",
         "02/07/2022",
         "06/07/2022",
         "2600.0"
        ],
        [
         "4",
         "B201",
         "03/06/2022",
         "07/06/2022",
         "1200.0"
        ],
        [
         "5",
         "B201",
         "03/07/2022",
         "03/07/2022",
         "2700.0"
        ],
        [
         "6",
         "B202",
         "04/06/2022",
         "07/06/2022",
         "1300.0"
        ],
        [
         "7",
         "B202",
         "04/07/2022",
         "05/07/2022",
         "2800.0"
        ],
        [
         "8",
         "C301",
         "05/06/2022",
         "10/06/2022",
         "1400.0"
        ],
        [
         "9",
         "C301",
         "05/07/2022",
         "09/07/2022",
         "2900.0"
        ],
        [
         "10",
         "C302",
         "06/06/2022",
         "08/06/2022",
         "1500.0"
        ],
        [
         "11",
         "C302",
         "06/07/2022",
         "12/07/2022",
         "1200.0"
        ],
        [
         "12",
         "D401",
         "07/06/2022",
         "07/06/2022",
         "1600.0"
        ],
        [
         "13",
         "D401",
         "07/07/2022",
         "09/07/2022",
         "1300.0"
        ],
        [
         "14",
         "D402",
         "08/06/2022",
         "10/06/2022",
         "1700.0"
        ],
        [
         "15",
         "D402",
         "08/07/2022",
         "14/07/2022",
         "1400.0"
        ],
        [
         "16",
         "E501",
         "09/06/2022",
         "10/06/2022",
         "1800.0"
        ],
        [
         "17",
         "E501",
         "09/07/2022",
         "09/07/2022",
         "1500.0"
        ],
        [
         "18",
         "E502",
         "10/06/2022",
         "16/06/2022",
         "1900.0"
        ],
        [
         "19",
         "E502",
         "10/07/2022",
         "12/07/2022",
         "1600.0"
        ],
        [
         "20",
         "F601",
         "11/06/2022",
         "17/06/2022",
         "2000.0"
        ],
        [
         "21",
         "F601",
         "11/07/2022",
         "13/07/2022",
         "1000.0"
        ],
        [
         "22",
         "F602",
         "12/06/2022",
         "15/06/2022",
         "2100.0"
        ],
        [
         "23",
         "F602",
         "12/07/2022",
         "12/07/2022",
         "1100.0"
        ],
        [
         "24",
         "G701",
         "13/06/2022",
         "19/06/2022",
         "2200.0"
        ],
        [
         "25",
         "G701",
         "13/07/2022",
         "20/07/2022",
         "1200.0"
        ],
        [
         "26",
         "G702",
         "14/06/2022",
         "15/06/2022",
         "2300.0"
        ],
        [
         "27",
         "G702",
         "14/07/2022",
         "17/07/2022",
         "2100.0"
        ],
        [
         "28",
         "H801",
         "15/06/2022",
         "18/06/2022",
         "2400.0"
        ],
        [
         "29",
         "H801",
         "15/07/2022",
         "16/07/2022",
         "2200.0"
        ]
       ],
       "shape": {
        "columns": 4,
        "rows": 30
       }
      },
      "text/html": [
       "<div>\n",
       "<style scoped>\n",
       "    .dataframe tbody tr th:only-of-type {\n",
       "        vertical-align: middle;\n",
       "    }\n",
       "\n",
       "    .dataframe tbody tr th {\n",
       "        vertical-align: top;\n",
       "    }\n",
       "\n",
       "    .dataframe thead th {\n",
       "        text-align: right;\n",
       "    }\n",
       "</style>\n",
       "<table border=\"1\" class=\"dataframe\">\n",
       "  <thead>\n",
       "    <tr style=\"text-align: right;\">\n",
       "      <th></th>\n",
       "      <th>apartamento</th>\n",
       "      <th>datas_combinadas_pagamento</th>\n",
       "      <th>datas_de_pagamento</th>\n",
       "      <th>valor_aluguel</th>\n",
       "    </tr>\n",
       "  </thead>\n",
       "  <tbody>\n",
       "    <tr>\n",
       "      <th>0</th>\n",
       "      <td>A101</td>\n",
       "      <td>01/06/2022</td>\n",
       "      <td>05/06/2022</td>\n",
       "      <td>1000.0</td>\n",
       "    </tr>\n",
       "    <tr>\n",
       "      <th>1</th>\n",
       "      <td>A101</td>\n",
       "      <td>01/07/2022</td>\n",
       "      <td>03/07/2022</td>\n",
       "      <td>2500.0</td>\n",
       "    </tr>\n",
       "    <tr>\n",
       "      <th>2</th>\n",
       "      <td>A102</td>\n",
       "      <td>02/06/2022</td>\n",
       "      <td>02/06/2022</td>\n",
       "      <td>1100.0</td>\n",
       "    </tr>\n",
       "    <tr>\n",
       "      <th>3</th>\n",
       "      <td>A102</td>\n",
       "      <td>02/07/2022</td>\n",
       "      <td>06/07/2022</td>\n",
       "      <td>2600.0</td>\n",
       "    </tr>\n",
       "    <tr>\n",
       "      <th>4</th>\n",
       "      <td>B201</td>\n",
       "      <td>03/06/2022</td>\n",
       "      <td>07/06/2022</td>\n",
       "      <td>1200.0</td>\n",
       "    </tr>\n",
       "    <tr>\n",
       "      <th>5</th>\n",
       "      <td>B201</td>\n",
       "      <td>03/07/2022</td>\n",
       "      <td>03/07/2022</td>\n",
       "      <td>2700.0</td>\n",
       "    </tr>\n",
       "    <tr>\n",
       "      <th>6</th>\n",
       "      <td>B202</td>\n",
       "      <td>04/06/2022</td>\n",
       "      <td>07/06/2022</td>\n",
       "      <td>1300.0</td>\n",
       "    </tr>\n",
       "    <tr>\n",
       "      <th>7</th>\n",
       "      <td>B202</td>\n",
       "      <td>04/07/2022</td>\n",
       "      <td>05/07/2022</td>\n",
       "      <td>2800.0</td>\n",
       "    </tr>\n",
       "    <tr>\n",
       "      <th>8</th>\n",
       "      <td>C301</td>\n",
       "      <td>05/06/2022</td>\n",
       "      <td>10/06/2022</td>\n",
       "      <td>1400.0</td>\n",
       "    </tr>\n",
       "    <tr>\n",
       "      <th>9</th>\n",
       "      <td>C301</td>\n",
       "      <td>05/07/2022</td>\n",
       "      <td>09/07/2022</td>\n",
       "      <td>2900.0</td>\n",
       "    </tr>\n",
       "    <tr>\n",
       "      <th>10</th>\n",
       "      <td>C302</td>\n",
       "      <td>06/06/2022</td>\n",
       "      <td>08/06/2022</td>\n",
       "      <td>1500.0</td>\n",
       "    </tr>\n",
       "    <tr>\n",
       "      <th>11</th>\n",
       "      <td>C302</td>\n",
       "      <td>06/07/2022</td>\n",
       "      <td>12/07/2022</td>\n",
       "      <td>1200.0</td>\n",
       "    </tr>\n",
       "    <tr>\n",
       "      <th>12</th>\n",
       "      <td>D401</td>\n",
       "      <td>07/06/2022</td>\n",
       "      <td>07/06/2022</td>\n",
       "      <td>1600.0</td>\n",
       "    </tr>\n",
       "    <tr>\n",
       "      <th>13</th>\n",
       "      <td>D401</td>\n",
       "      <td>07/07/2022</td>\n",
       "      <td>09/07/2022</td>\n",
       "      <td>1300.0</td>\n",
       "    </tr>\n",
       "    <tr>\n",
       "      <th>14</th>\n",
       "      <td>D402</td>\n",
       "      <td>08/06/2022</td>\n",
       "      <td>10/06/2022</td>\n",
       "      <td>1700.0</td>\n",
       "    </tr>\n",
       "    <tr>\n",
       "      <th>15</th>\n",
       "      <td>D402</td>\n",
       "      <td>08/07/2022</td>\n",
       "      <td>14/07/2022</td>\n",
       "      <td>1400.0</td>\n",
       "    </tr>\n",
       "    <tr>\n",
       "      <th>16</th>\n",
       "      <td>E501</td>\n",
       "      <td>09/06/2022</td>\n",
       "      <td>10/06/2022</td>\n",
       "      <td>1800.0</td>\n",
       "    </tr>\n",
       "    <tr>\n",
       "      <th>17</th>\n",
       "      <td>E501</td>\n",
       "      <td>09/07/2022</td>\n",
       "      <td>09/07/2022</td>\n",
       "      <td>1500.0</td>\n",
       "    </tr>\n",
       "    <tr>\n",
       "      <th>18</th>\n",
       "      <td>E502</td>\n",
       "      <td>10/06/2022</td>\n",
       "      <td>16/06/2022</td>\n",
       "      <td>1900.0</td>\n",
       "    </tr>\n",
       "    <tr>\n",
       "      <th>19</th>\n",
       "      <td>E502</td>\n",
       "      <td>10/07/2022</td>\n",
       "      <td>12/07/2022</td>\n",
       "      <td>1600.0</td>\n",
       "    </tr>\n",
       "    <tr>\n",
       "      <th>20</th>\n",
       "      <td>F601</td>\n",
       "      <td>11/06/2022</td>\n",
       "      <td>17/06/2022</td>\n",
       "      <td>2000.0</td>\n",
       "    </tr>\n",
       "    <tr>\n",
       "      <th>21</th>\n",
       "      <td>F601</td>\n",
       "      <td>11/07/2022</td>\n",
       "      <td>13/07/2022</td>\n",
       "      <td>1000.0</td>\n",
       "    </tr>\n",
       "    <tr>\n",
       "      <th>22</th>\n",
       "      <td>F602</td>\n",
       "      <td>12/06/2022</td>\n",
       "      <td>15/06/2022</td>\n",
       "      <td>2100.0</td>\n",
       "    </tr>\n",
       "    <tr>\n",
       "      <th>23</th>\n",
       "      <td>F602</td>\n",
       "      <td>12/07/2022</td>\n",
       "      <td>12/07/2022</td>\n",
       "      <td>1100.0</td>\n",
       "    </tr>\n",
       "    <tr>\n",
       "      <th>24</th>\n",
       "      <td>G701</td>\n",
       "      <td>13/06/2022</td>\n",
       "      <td>19/06/2022</td>\n",
       "      <td>2200.0</td>\n",
       "    </tr>\n",
       "    <tr>\n",
       "      <th>25</th>\n",
       "      <td>G701</td>\n",
       "      <td>13/07/2022</td>\n",
       "      <td>20/07/2022</td>\n",
       "      <td>1200.0</td>\n",
       "    </tr>\n",
       "    <tr>\n",
       "      <th>26</th>\n",
       "      <td>G702</td>\n",
       "      <td>14/06/2022</td>\n",
       "      <td>15/06/2022</td>\n",
       "      <td>2300.0</td>\n",
       "    </tr>\n",
       "    <tr>\n",
       "      <th>27</th>\n",
       "      <td>G702</td>\n",
       "      <td>14/07/2022</td>\n",
       "      <td>17/07/2022</td>\n",
       "      <td>2100.0</td>\n",
       "    </tr>\n",
       "    <tr>\n",
       "      <th>28</th>\n",
       "      <td>H801</td>\n",
       "      <td>15/06/2022</td>\n",
       "      <td>18/06/2022</td>\n",
       "      <td>2400.0</td>\n",
       "    </tr>\n",
       "    <tr>\n",
       "      <th>29</th>\n",
       "      <td>H801</td>\n",
       "      <td>15/07/2022</td>\n",
       "      <td>16/07/2022</td>\n",
       "      <td>2200.0</td>\n",
       "    </tr>\n",
       "  </tbody>\n",
       "</table>\n",
       "</div>"
      ],
      "text/plain": [
       "   apartamento datas_combinadas_pagamento datas_de_pagamento  valor_aluguel\n",
       "0         A101                 01/06/2022         05/06/2022         1000.0\n",
       "1         A101                 01/07/2022         03/07/2022         2500.0\n",
       "2         A102                 02/06/2022         02/06/2022         1100.0\n",
       "3         A102                 02/07/2022         06/07/2022         2600.0\n",
       "4         B201                 03/06/2022         07/06/2022         1200.0\n",
       "5         B201                 03/07/2022         03/07/2022         2700.0\n",
       "6         B202                 04/06/2022         07/06/2022         1300.0\n",
       "7         B202                 04/07/2022         05/07/2022         2800.0\n",
       "8         C301                 05/06/2022         10/06/2022         1400.0\n",
       "9         C301                 05/07/2022         09/07/2022         2900.0\n",
       "10        C302                 06/06/2022         08/06/2022         1500.0\n",
       "11        C302                 06/07/2022         12/07/2022         1200.0\n",
       "12        D401                 07/06/2022         07/06/2022         1600.0\n",
       "13        D401                 07/07/2022         09/07/2022         1300.0\n",
       "14        D402                 08/06/2022         10/06/2022         1700.0\n",
       "15        D402                 08/07/2022         14/07/2022         1400.0\n",
       "16        E501                 09/06/2022         10/06/2022         1800.0\n",
       "17        E501                 09/07/2022         09/07/2022         1500.0\n",
       "18        E502                 10/06/2022         16/06/2022         1900.0\n",
       "19        E502                 10/07/2022         12/07/2022         1600.0\n",
       "20        F601                 11/06/2022         17/06/2022         2000.0\n",
       "21        F601                 11/07/2022         13/07/2022         1000.0\n",
       "22        F602                 12/06/2022         15/06/2022         2100.0\n",
       "23        F602                 12/07/2022         12/07/2022         1100.0\n",
       "24        G701                 13/06/2022         19/06/2022         2200.0\n",
       "25        G701                 13/07/2022         20/07/2022         1200.0\n",
       "26        G702                 14/06/2022         15/06/2022         2300.0\n",
       "27        G702                 14/07/2022         17/07/2022         2100.0\n",
       "28        H801                 15/06/2022         18/06/2022         2400.0\n",
       "29        H801                 15/07/2022         16/07/2022         2200.0"
      ]
     },
     "execution_count": 21,
     "metadata": {},
     "output_type": "execute_result"
    }
   ],
   "source": [
    "# Opção de substituição - necessário verificar o resultado da substituição\n",
    "# Foi necessário adicionar a barra '\\' para ser considerados os parênteses como caracteres literais\n",
    "dados['apartamento'].str.replace(' \\(blocoAP\\)', '', regex=True)\n",
    "\n",
    "# Realizar a substituição dos dados na coluna textual\n",
    "dados['apartamento'] = dados['apartamento'].str.replace(' \\(blocoAP\\)', '', regex=True)\n",
    "# Visualizar o resultado final\n",
    "dados"
   ]
  },
  {
   "cell_type": "markdown",
   "id": "37d5459e",
   "metadata": {},
   "source": [
    "### Desafio 2.3"
   ]
  },
  {
   "cell_type": "code",
   "execution_count": 22,
   "id": "3f3e3566",
   "metadata": {},
   "outputs": [
    {
     "data": {
      "application/vnd.microsoft.datawrangler.viewer.v0+json": {
       "columns": [
        {
         "name": "apartamento",
         "rawType": "object",
         "type": "string"
        },
        {
         "name": "atraso",
         "rawType": "float64",
         "type": "float"
        }
       ],
       "ref": "7616b6d4-462a-4e82-b0df-22db7f1d7eb7",
       "rows": [
        [
         "A101",
         "3.0"
        ],
        [
         "A102",
         "2.0"
        ],
        [
         "B201",
         "2.0"
        ],
        [
         "B202",
         "2.0"
        ],
        [
         "C301",
         "4.5"
        ],
        [
         "C302",
         "4.0"
        ],
        [
         "D401",
         "1.0"
        ],
        [
         "D402",
         "4.0"
        ],
        [
         "E501",
         "0.5"
        ],
        [
         "E502",
         "4.0"
        ],
        [
         "F601",
         "4.0"
        ],
        [
         "F602",
         "1.5"
        ],
        [
         "G701",
         "6.5"
        ],
        [
         "G702",
         "2.0"
        ],
        [
         "H801",
         "2.0"
        ]
       ],
       "shape": {
        "columns": 1,
        "rows": 15
       }
      },
      "text/plain": [
       "apartamento\n",
       "A101    3.0\n",
       "A102    2.0\n",
       "B201    2.0\n",
       "B202    2.0\n",
       "C301    4.5\n",
       "C302    4.0\n",
       "D401    1.0\n",
       "D402    4.0\n",
       "E501    0.5\n",
       "E502    4.0\n",
       "F601    4.0\n",
       "F602    1.5\n",
       "G701    6.5\n",
       "G702    2.0\n",
       "H801    2.0\n",
       "Name: atraso, dtype: float64"
      ]
     },
     "execution_count": 22,
     "metadata": {},
     "output_type": "execute_result"
    }
   ],
   "source": [
    "# Transformar para o tipo datetime definindo o formato de data como DD/MM/AAAA ('%d/%m/%Y')\n",
    "dados['datas_combinadas_pagamento'] = pd.to_datetime(dados['datas_combinadas_pagamento'], format='%d/%m/%Y')\n",
    "dados['datas_de_pagamento'] = pd.to_datetime(dados['datas_de_pagamento'], format='%d/%m/%Y')\n",
    "\n",
    "# Visualizar o resultado\n",
    "dados\n",
    "\n",
    "# Para contribuir na solução do contexto é possível calcular a diferença de dias\n",
    "# entre a data combinada e a data de pagamento com dt.days\n",
    "dados['atraso'] = (dados['datas_de_pagamento'] - dados['datas_combinadas_pagamento']).dt.days\n",
    "\n",
    "# Observar o novo DataFrame\n",
    "dados\n",
    "\n",
    "# Calcular a média de tempo de atraso por apartamentos\n",
    "media_atraso = dados.groupby(['apartamento'])['atraso'].mean()\n",
    "\n",
    "# Visualizar o resultado\n",
    "media_atraso"
   ]
  },
  {
   "cell_type": "code",
   "execution_count": null,
   "id": "371507d5",
   "metadata": {},
   "outputs": [],
   "source": []
  }
 ],
 "metadata": {
  "kernelspec": {
   "display_name": "Python 3",
   "language": "python",
   "name": "python3"
  },
  "language_info": {
   "codemirror_mode": {
    "name": "ipython",
    "version": 3
   },
   "file_extension": ".py",
   "mimetype": "text/x-python",
   "name": "python",
   "nbconvert_exporter": "python",
   "pygments_lexer": "ipython3",
   "version": "3.13.3"
  }
 },
 "nbformat": 4,
 "nbformat_minor": 5
}
