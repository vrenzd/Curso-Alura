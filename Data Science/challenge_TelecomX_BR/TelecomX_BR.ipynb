{
 "cells": [
  {
   "cell_type": "markdown",
   "id": "f8dc0256",
   "metadata": {},
   "source": [
    "## 1. Importação e Configuração\n",
    "Importando as bibliotecas necessárias e configurando as opções de visualização."
   ]
  },
  {
   "cell_type": "code",
   "execution_count": 2,
   "id": "32548bb6",
   "metadata": {},
   "outputs": [],
   "source": [
    "import pandas as pd\n",
    "import numpy as np\n",
    "import matplotlib.pyplot as plt\n",
    "import seaborn as sns"
   ]
  },
  {
   "cell_type": "markdown",
   "id": "25748045",
   "metadata": {},
   "source": [
    "## 2. Carregamento dos Dados\n",
    "Carregando os dados do arquivo JSON via URL."
   ]
  },
  {
   "cell_type": "code",
   "execution_count": 3,
   "id": "eea607bb",
   "metadata": {},
   "outputs": [
    {
     "name": "stdout",
     "output_type": "stream",
     "text": [
      "Primeiras 5 linhas do dataset:\n"
     ]
    },
    {
     "data": {
      "application/vnd.microsoft.datawrangler.viewer.v0+json": {
       "columns": [
        {
         "name": "index",
         "rawType": "int64",
         "type": "integer"
        },
        {
         "name": "customerID",
         "rawType": "object",
         "type": "string"
        },
        {
         "name": "Churn",
         "rawType": "object",
         "type": "string"
        },
        {
         "name": "customer",
         "rawType": "object",
         "type": "unknown"
        },
        {
         "name": "phone",
         "rawType": "object",
         "type": "unknown"
        },
        {
         "name": "internet",
         "rawType": "object",
         "type": "unknown"
        },
        {
         "name": "account",
         "rawType": "object",
         "type": "unknown"
        }
       ],
       "ref": "b4f9a91e-5b69-430b-b69c-227d1d0d1ab8",
       "rows": [
        [
         "0",
         "0002-ORFBO",
         "No",
         "{'gender': 'Female', 'SeniorCitizen': 0, 'Partner': 'Yes', 'Dependents': 'Yes', 'tenure': 9}",
         "{'PhoneService': 'Yes', 'MultipleLines': 'No'}",
         "{'InternetService': 'DSL', 'OnlineSecurity': 'No', 'OnlineBackup': 'Yes', 'DeviceProtection': 'No', 'TechSupport': 'Yes', 'StreamingTV': 'Yes', 'StreamingMovies': 'No'}",
         "{'Contract': 'One year', 'PaperlessBilling': 'Yes', 'PaymentMethod': 'Mailed check', 'Charges': {'Monthly': 65.6, 'Total': '593.3'}}"
        ],
        [
         "1",
         "0003-MKNFE",
         "No",
         "{'gender': 'Male', 'SeniorCitizen': 0, 'Partner': 'No', 'Dependents': 'No', 'tenure': 9}",
         "{'PhoneService': 'Yes', 'MultipleLines': 'Yes'}",
         "{'InternetService': 'DSL', 'OnlineSecurity': 'No', 'OnlineBackup': 'No', 'DeviceProtection': 'No', 'TechSupport': 'No', 'StreamingTV': 'No', 'StreamingMovies': 'Yes'}",
         "{'Contract': 'Month-to-month', 'PaperlessBilling': 'No', 'PaymentMethod': 'Mailed check', 'Charges': {'Monthly': 59.9, 'Total': '542.4'}}"
        ],
        [
         "2",
         "0004-TLHLJ",
         "Yes",
         "{'gender': 'Male', 'SeniorCitizen': 0, 'Partner': 'No', 'Dependents': 'No', 'tenure': 4}",
         "{'PhoneService': 'Yes', 'MultipleLines': 'No'}",
         "{'InternetService': 'Fiber optic', 'OnlineSecurity': 'No', 'OnlineBackup': 'No', 'DeviceProtection': 'Yes', 'TechSupport': 'No', 'StreamingTV': 'No', 'StreamingMovies': 'No'}",
         "{'Contract': 'Month-to-month', 'PaperlessBilling': 'Yes', 'PaymentMethod': 'Electronic check', 'Charges': {'Monthly': 73.9, 'Total': '280.85'}}"
        ],
        [
         "3",
         "0011-IGKFF",
         "Yes",
         "{'gender': 'Male', 'SeniorCitizen': 1, 'Partner': 'Yes', 'Dependents': 'No', 'tenure': 13}",
         "{'PhoneService': 'Yes', 'MultipleLines': 'No'}",
         "{'InternetService': 'Fiber optic', 'OnlineSecurity': 'No', 'OnlineBackup': 'Yes', 'DeviceProtection': 'Yes', 'TechSupport': 'No', 'StreamingTV': 'Yes', 'StreamingMovies': 'Yes'}",
         "{'Contract': 'Month-to-month', 'PaperlessBilling': 'Yes', 'PaymentMethod': 'Electronic check', 'Charges': {'Monthly': 98.0, 'Total': '1237.85'}}"
        ],
        [
         "4",
         "0013-EXCHZ",
         "Yes",
         "{'gender': 'Female', 'SeniorCitizen': 1, 'Partner': 'Yes', 'Dependents': 'No', 'tenure': 3}",
         "{'PhoneService': 'Yes', 'MultipleLines': 'No'}",
         "{'InternetService': 'Fiber optic', 'OnlineSecurity': 'No', 'OnlineBackup': 'No', 'DeviceProtection': 'No', 'TechSupport': 'Yes', 'StreamingTV': 'Yes', 'StreamingMovies': 'No'}",
         "{'Contract': 'Month-to-month', 'PaperlessBilling': 'Yes', 'PaymentMethod': 'Mailed check', 'Charges': {'Monthly': 83.9, 'Total': '267.4'}}"
        ]
       ],
       "shape": {
        "columns": 6,
        "rows": 5
       }
      },
      "text/html": [
       "<div>\n",
       "<style scoped>\n",
       "    .dataframe tbody tr th:only-of-type {\n",
       "        vertical-align: middle;\n",
       "    }\n",
       "\n",
       "    .dataframe tbody tr th {\n",
       "        vertical-align: top;\n",
       "    }\n",
       "\n",
       "    .dataframe thead th {\n",
       "        text-align: right;\n",
       "    }\n",
       "</style>\n",
       "<table border=\"1\" class=\"dataframe\">\n",
       "  <thead>\n",
       "    <tr style=\"text-align: right;\">\n",
       "      <th></th>\n",
       "      <th>customerID</th>\n",
       "      <th>Churn</th>\n",
       "      <th>customer</th>\n",
       "      <th>phone</th>\n",
       "      <th>internet</th>\n",
       "      <th>account</th>\n",
       "    </tr>\n",
       "  </thead>\n",
       "  <tbody>\n",
       "    <tr>\n",
       "      <th>0</th>\n",
       "      <td>0002-ORFBO</td>\n",
       "      <td>No</td>\n",
       "      <td>{'gender': 'Female', 'SeniorCitizen': 0, 'Part...</td>\n",
       "      <td>{'PhoneService': 'Yes', 'MultipleLines': 'No'}</td>\n",
       "      <td>{'InternetService': 'DSL', 'OnlineSecurity': '...</td>\n",
       "      <td>{'Contract': 'One year', 'PaperlessBilling': '...</td>\n",
       "    </tr>\n",
       "    <tr>\n",
       "      <th>1</th>\n",
       "      <td>0003-MKNFE</td>\n",
       "      <td>No</td>\n",
       "      <td>{'gender': 'Male', 'SeniorCitizen': 0, 'Partne...</td>\n",
       "      <td>{'PhoneService': 'Yes', 'MultipleLines': 'Yes'}</td>\n",
       "      <td>{'InternetService': 'DSL', 'OnlineSecurity': '...</td>\n",
       "      <td>{'Contract': 'Month-to-month', 'PaperlessBilli...</td>\n",
       "    </tr>\n",
       "    <tr>\n",
       "      <th>2</th>\n",
       "      <td>0004-TLHLJ</td>\n",
       "      <td>Yes</td>\n",
       "      <td>{'gender': 'Male', 'SeniorCitizen': 0, 'Partne...</td>\n",
       "      <td>{'PhoneService': 'Yes', 'MultipleLines': 'No'}</td>\n",
       "      <td>{'InternetService': 'Fiber optic', 'OnlineSecu...</td>\n",
       "      <td>{'Contract': 'Month-to-month', 'PaperlessBilli...</td>\n",
       "    </tr>\n",
       "    <tr>\n",
       "      <th>3</th>\n",
       "      <td>0011-IGKFF</td>\n",
       "      <td>Yes</td>\n",
       "      <td>{'gender': 'Male', 'SeniorCitizen': 1, 'Partne...</td>\n",
       "      <td>{'PhoneService': 'Yes', 'MultipleLines': 'No'}</td>\n",
       "      <td>{'InternetService': 'Fiber optic', 'OnlineSecu...</td>\n",
       "      <td>{'Contract': 'Month-to-month', 'PaperlessBilli...</td>\n",
       "    </tr>\n",
       "    <tr>\n",
       "      <th>4</th>\n",
       "      <td>0013-EXCHZ</td>\n",
       "      <td>Yes</td>\n",
       "      <td>{'gender': 'Female', 'SeniorCitizen': 1, 'Part...</td>\n",
       "      <td>{'PhoneService': 'Yes', 'MultipleLines': 'No'}</td>\n",
       "      <td>{'InternetService': 'Fiber optic', 'OnlineSecu...</td>\n",
       "      <td>{'Contract': 'Month-to-month', 'PaperlessBilli...</td>\n",
       "    </tr>\n",
       "  </tbody>\n",
       "</table>\n",
       "</div>"
      ],
      "text/plain": [
       "   customerID Churn                                           customer  \\\n",
       "0  0002-ORFBO    No  {'gender': 'Female', 'SeniorCitizen': 0, 'Part...   \n",
       "1  0003-MKNFE    No  {'gender': 'Male', 'SeniorCitizen': 0, 'Partne...   \n",
       "2  0004-TLHLJ   Yes  {'gender': 'Male', 'SeniorCitizen': 0, 'Partne...   \n",
       "3  0011-IGKFF   Yes  {'gender': 'Male', 'SeniorCitizen': 1, 'Partne...   \n",
       "4  0013-EXCHZ   Yes  {'gender': 'Female', 'SeniorCitizen': 1, 'Part...   \n",
       "\n",
       "                                             phone  \\\n",
       "0   {'PhoneService': 'Yes', 'MultipleLines': 'No'}   \n",
       "1  {'PhoneService': 'Yes', 'MultipleLines': 'Yes'}   \n",
       "2   {'PhoneService': 'Yes', 'MultipleLines': 'No'}   \n",
       "3   {'PhoneService': 'Yes', 'MultipleLines': 'No'}   \n",
       "4   {'PhoneService': 'Yes', 'MultipleLines': 'No'}   \n",
       "\n",
       "                                            internet  \\\n",
       "0  {'InternetService': 'DSL', 'OnlineSecurity': '...   \n",
       "1  {'InternetService': 'DSL', 'OnlineSecurity': '...   \n",
       "2  {'InternetService': 'Fiber optic', 'OnlineSecu...   \n",
       "3  {'InternetService': 'Fiber optic', 'OnlineSecu...   \n",
       "4  {'InternetService': 'Fiber optic', 'OnlineSecu...   \n",
       "\n",
       "                                             account  \n",
       "0  {'Contract': 'One year', 'PaperlessBilling': '...  \n",
       "1  {'Contract': 'Month-to-month', 'PaperlessBilli...  \n",
       "2  {'Contract': 'Month-to-month', 'PaperlessBilli...  \n",
       "3  {'Contract': 'Month-to-month', 'PaperlessBilli...  \n",
       "4  {'Contract': 'Month-to-month', 'PaperlessBilli...  "
      ]
     },
     "execution_count": 3,
     "metadata": {},
     "output_type": "execute_result"
    }
   ],
   "source": [
    "# URL do dataset\n",
    "url = \"https://raw.githubusercontent.com/ingridcristh/challenge2-data-science/refs/heads/main/TelecomX_Data.json\"\n",
    "\n",
    "# Carregando os dados\n",
    "df = pd.read_json(url)\n",
    "\n",
    "# Exibindo as primeiras linhas\n",
    "print(\"Primeiras 5 linhas do dataset:\")\n",
    "df.head()"
   ]
  },
  {
   "cell_type": "markdown",
   "id": "56b8d1f9",
   "metadata": {},
   "source": [
    "## 3. Exploração Inicial\n",
    "Verificando informações básicas do dataset."
   ]
  },
  {
   "cell_type": "code",
   "execution_count": 4,
   "id": "edbd9262",
   "metadata": {},
   "outputs": [
    {
     "name": "stdout",
     "output_type": "stream",
     "text": [
      "\n",
      "Informações do Dataset:\n",
      "<class 'pandas.core.frame.DataFrame'>\n",
      "RangeIndex: 7267 entries, 0 to 7266\n",
      "Data columns (total 6 columns):\n",
      " #   Column      Non-Null Count  Dtype \n",
      "---  ------      --------------  ----- \n",
      " 0   customerID  7267 non-null   object\n",
      " 1   Churn       7267 non-null   object\n",
      " 2   customer    7267 non-null   object\n",
      " 3   phone       7267 non-null   object\n",
      " 4   internet    7267 non-null   object\n",
      " 5   account     7267 non-null   object\n",
      "dtypes: object(6)\n",
      "memory usage: 340.8+ KB\n",
      "None\n",
      "\n",
      "Estatísticas básicas:\n"
     ]
    },
    {
     "data": {
      "application/vnd.microsoft.datawrangler.viewer.v0+json": {
       "columns": [
        {
         "name": "index",
         "rawType": "object",
         "type": "string"
        },
        {
         "name": "customerID",
         "rawType": "object",
         "type": "unknown"
        },
        {
         "name": "Churn",
         "rawType": "object",
         "type": "unknown"
        },
        {
         "name": "customer",
         "rawType": "object",
         "type": "unknown"
        },
        {
         "name": "phone",
         "rawType": "object",
         "type": "unknown"
        },
        {
         "name": "internet",
         "rawType": "object",
         "type": "unknown"
        },
        {
         "name": "account",
         "rawType": "object",
         "type": "unknown"
        }
       ],
       "ref": "1e074a3c-83f0-4342-8934-7f245757afa8",
       "rows": [
        [
         "count",
         "7267",
         "7267",
         "7267",
         "7267",
         "7267",
         "7267"
        ],
        [
         "unique",
         "7267",
         "3",
         "891",
         "3",
         "129",
         "6931"
        ],
        [
         "top",
         "0002-ORFBO",
         "No",
         "{'gender': 'Male', 'SeniorCitizen': 0, 'Partner': 'No', 'Dependents': 'No', 'tenure': 1}",
         "{'PhoneService': 'Yes', 'MultipleLines': 'No'}",
         "{'InternetService': 'No', 'OnlineSecurity': 'No internet service', 'OnlineBackup': 'No internet service', 'DeviceProtection': 'No internet service', 'TechSupport': 'No internet service', 'StreamingTV': 'No internet service', 'StreamingMovies': 'No internet service'}",
         "{'Contract': 'Month-to-month', 'PaperlessBilling': 'No', 'PaymentMethod': 'Mailed check', 'Charges': {'Monthly': 19.55, 'Total': '19.55'}}"
        ],
        [
         "freq",
         "1",
         "5174",
         "223",
         "3495",
         "1581",
         "6"
        ]
       ],
       "shape": {
        "columns": 6,
        "rows": 4
       }
      },
      "text/html": [
       "<div>\n",
       "<style scoped>\n",
       "    .dataframe tbody tr th:only-of-type {\n",
       "        vertical-align: middle;\n",
       "    }\n",
       "\n",
       "    .dataframe tbody tr th {\n",
       "        vertical-align: top;\n",
       "    }\n",
       "\n",
       "    .dataframe thead th {\n",
       "        text-align: right;\n",
       "    }\n",
       "</style>\n",
       "<table border=\"1\" class=\"dataframe\">\n",
       "  <thead>\n",
       "    <tr style=\"text-align: right;\">\n",
       "      <th></th>\n",
       "      <th>customerID</th>\n",
       "      <th>Churn</th>\n",
       "      <th>customer</th>\n",
       "      <th>phone</th>\n",
       "      <th>internet</th>\n",
       "      <th>account</th>\n",
       "    </tr>\n",
       "  </thead>\n",
       "  <tbody>\n",
       "    <tr>\n",
       "      <th>count</th>\n",
       "      <td>7267</td>\n",
       "      <td>7267</td>\n",
       "      <td>7267</td>\n",
       "      <td>7267</td>\n",
       "      <td>7267</td>\n",
       "      <td>7267</td>\n",
       "    </tr>\n",
       "    <tr>\n",
       "      <th>unique</th>\n",
       "      <td>7267</td>\n",
       "      <td>3</td>\n",
       "      <td>891</td>\n",
       "      <td>3</td>\n",
       "      <td>129</td>\n",
       "      <td>6931</td>\n",
       "    </tr>\n",
       "    <tr>\n",
       "      <th>top</th>\n",
       "      <td>0002-ORFBO</td>\n",
       "      <td>No</td>\n",
       "      <td>{'gender': 'Male', 'SeniorCitizen': 0, 'Partne...</td>\n",
       "      <td>{'PhoneService': 'Yes', 'MultipleLines': 'No'}</td>\n",
       "      <td>{'InternetService': 'No', 'OnlineSecurity': 'N...</td>\n",
       "      <td>{'Contract': 'Month-to-month', 'PaperlessBilli...</td>\n",
       "    </tr>\n",
       "    <tr>\n",
       "      <th>freq</th>\n",
       "      <td>1</td>\n",
       "      <td>5174</td>\n",
       "      <td>223</td>\n",
       "      <td>3495</td>\n",
       "      <td>1581</td>\n",
       "      <td>6</td>\n",
       "    </tr>\n",
       "  </tbody>\n",
       "</table>\n",
       "</div>"
      ],
      "text/plain": [
       "        customerID Churn                                           customer  \\\n",
       "count         7267  7267                                               7267   \n",
       "unique        7267     3                                                891   \n",
       "top     0002-ORFBO    No  {'gender': 'Male', 'SeniorCitizen': 0, 'Partne...   \n",
       "freq             1  5174                                                223   \n",
       "\n",
       "                                                 phone  \\\n",
       "count                                             7267   \n",
       "unique                                               3   \n",
       "top     {'PhoneService': 'Yes', 'MultipleLines': 'No'}   \n",
       "freq                                              3495   \n",
       "\n",
       "                                                 internet  \\\n",
       "count                                                7267   \n",
       "unique                                                129   \n",
       "top     {'InternetService': 'No', 'OnlineSecurity': 'N...   \n",
       "freq                                                 1581   \n",
       "\n",
       "                                                  account  \n",
       "count                                                7267  \n",
       "unique                                               6931  \n",
       "top     {'Contract': 'Month-to-month', 'PaperlessBilli...  \n",
       "freq                                                    6  "
      ]
     },
     "execution_count": 4,
     "metadata": {},
     "output_type": "execute_result"
    }
   ],
   "source": [
    "# Informações gerais do dataset\n",
    "\n",
    "print(df.info())\n",
    "df.describe()"
   ]
  },
  {
   "cell_type": "markdown",
   "id": "54cd524c",
   "metadata": {},
   "source": [
    "## 4. Tratamento de Inconsistências\n",
    "Identificando e tratando valores ausentes e inconsistências."
   ]
  },
  {
   "cell_type": "code",
   "execution_count": 8,
   "id": "df1f4673",
   "metadata": {},
   "outputs": [
    {
     "name": "stdout",
     "output_type": "stream",
     "text": [
      "<class 'dict'>\n",
      "{'gender': 'Female', 'SeniorCitizen': 0, 'Partner': 'Yes', 'Dependents': 'Yes', 'tenure': 9}\n",
      "\n",
      "Estrutura do DataFrame após o tratamento:\n",
      "<class 'pandas.core.frame.DataFrame'>\n",
      "RangeIndex: 7267 entries, 0 to 7266\n",
      "Data columns (total 21 columns):\n",
      " #   Column            Non-Null Count  Dtype   \n",
      "---  ------            --------------  -----   \n",
      " 0   customerID        7267 non-null   category\n",
      " 1   Churn             7267 non-null   category\n",
      " 2   gender            7267 non-null   category\n",
      " 3   SeniorCitizen     7267 non-null   int64   \n",
      " 4   Partner           7267 non-null   category\n",
      " 5   Dependents        7267 non-null   category\n",
      " 6   tenure            7267 non-null   int64   \n",
      " 7   PhoneService      7267 non-null   category\n",
      " 8   MultipleLines     7267 non-null   category\n",
      " 9   InternetService   7267 non-null   category\n",
      " 10  OnlineSecurity    7267 non-null   category\n",
      " 11  OnlineBackup      7267 non-null   category\n",
      " 12  DeviceProtection  7267 non-null   category\n",
      " 13  TechSupport       7267 non-null   category\n",
      " 14  StreamingTV       7267 non-null   category\n",
      " 15  StreamingMovies   7267 non-null   category\n",
      " 16  Contract          7267 non-null   category\n",
      " 17  PaperlessBilling  7267 non-null   category\n",
      " 18  PaymentMethod     7267 non-null   category\n",
      " 19  Charges.Monthly   7267 non-null   float64 \n",
      " 20  Charges.Total     7267 non-null   category\n",
      "dtypes: category(18), float64(1), int64(2)\n",
      "memory usage: 938.4 KB\n",
      "None\n"
     ]
    }
   ],
   "source": [
    "# Verificando o tipo de dados nas colunas aninhadas\n",
    "print(type(df['customer'].iloc[0]))\n",
    "print(df['customer'].iloc[0])\n",
    "\n",
    "# Modificando o código para tratar corretamente os dados\n",
    "try:\n",
    "    # Se os dados já estiverem como dicionário, não precisamos usar eval()\n",
    "    customer_data = pd.json_normalize(df['customer'])\n",
    "    phone_data = pd.json_normalize(df['phone'])\n",
    "    internet_data = pd.json_normalize(df['internet'])\n",
    "    account_data = pd.json_normalize(df['account'])\n",
    "    \n",
    "    # Concatenando os dados\n",
    "    df = pd.concat([\n",
    "        df.drop(['customer', 'phone', 'internet', 'account'], axis=1),\n",
    "        customer_data,\n",
    "        phone_data,\n",
    "        internet_data,\n",
    "        account_data\n",
    "    ], axis=1)\n",
    "    \n",
    "    # Removendo duplicatas\n",
    "    df = df.drop_duplicates()\n",
    "    \n",
    "    # Convertendo tipos de dados apropriados\n",
    "    cat_columns = df.select_dtypes(include=['object']).columns\n",
    "    df[cat_columns] = df[cat_columns].astype('category')\n",
    "    \n",
    "    print(\"\\nEstrutura do DataFrame após o tratamento:\")\n",
    "    print(df.info())\n",
    "    \n",
    "except Exception as e:\n",
    "    print(f\"Erro ao processar os dados: {str(e)}\")"
   ]
  },
  {
   "cell_type": "markdown",
   "id": "4110204f",
   "metadata": {},
   "source": [
    "## 5. Criação da Coluna Contas_Diarias\n",
    "Calculando o valor diário das contas."
   ]
  },
  {
   "cell_type": "code",
   "execution_count": 10,
   "id": "3b581c1e",
   "metadata": {},
   "outputs": [
    {
     "name": "stdout",
     "output_type": "stream",
     "text": [
      "Estatísticas da nova coluna Contas_Diarias:\n"
     ]
    },
    {
     "data": {
      "application/vnd.microsoft.datawrangler.viewer.v0+json": {
       "columns": [
        {
         "name": "index",
         "rawType": "object",
         "type": "string"
        },
        {
         "name": "Contas_Diarias",
         "rawType": "float64",
         "type": "float"
        }
       ],
       "ref": "3ff2ddda-7e49-489d-be92-fe1c0dc6f6f3",
       "rows": [
        [
         "count",
         "7267.0"
        ],
        [
         "mean",
         "2.1573365900646757"
        ],
        [
         "std",
         "1.0043190628555663"
        ],
        [
         "min",
         "0.6083333333333333"
        ],
        [
         "25%",
         "1.1808333333333334"
        ],
        [
         "50%",
         "2.3433333333333333"
        ],
        [
         "75%",
         "2.9958333333333336"
        ],
        [
         "max",
         "3.9583333333333335"
        ]
       ],
       "shape": {
        "columns": 1,
        "rows": 8
       }
      },
      "text/plain": [
       "count    7267.000000\n",
       "mean        2.157337\n",
       "std         1.004319\n",
       "min         0.608333\n",
       "25%         1.180833\n",
       "50%         2.343333\n",
       "75%         2.995833\n",
       "max         3.958333\n",
       "Name: Contas_Diarias, dtype: float64"
      ]
     },
     "execution_count": 10,
     "metadata": {},
     "output_type": "execute_result"
    }
   ],
   "source": [
    "# Criando coluna de contas diárias\n",
    "df['Contas_Diarias'] = df['Charges.Monthly'] / 30\n",
    "print(\"Estatísticas da nova coluna Contas_Diarias:\")\n",
    "df['Contas_Diarias'].describe()"
   ]
  },
  {
   "cell_type": "markdown",
   "id": "97ff18d9",
   "metadata": {},
   "source": [
    "## 6. Análise Descritiva\n",
    "Análise estatística das principais variáveis."
   ]
  },
  {
   "cell_type": "code",
   "execution_count": 14,
   "id": "6dad2279",
   "metadata": {},
   "outputs": [
    {
     "name": "stdout",
     "output_type": "stream",
     "text": [
      "Análise descritiva das variáveis numéricas:\n",
      "       SeniorCitizen       tenure  Charges.Monthly  Contas_Diarias\n",
      "count    7267.000000  7267.000000      7267.000000     7267.000000\n",
      "mean        0.162653    32.346498        64.720098        2.157337\n",
      "std         0.369074    24.571773        30.129572        1.004319\n",
      "min         0.000000     0.000000        18.250000        0.608333\n",
      "25%         0.000000     9.000000        35.425000        1.180833\n",
      "50%         0.000000    29.000000        70.300000        2.343333\n",
      "75%         0.000000    55.000000        89.875000        2.995833\n",
      "max         1.000000    72.000000       118.750000        3.958333\n",
      "\n",
      "Distribuição das variáveis categóricas:\n",
      "\n",
      "customerID:\n",
      "customerID\n",
      "0002-ORFBO    1\n",
      "6614-VBEGU    1\n",
      "6637-KYRCV    1\n",
      "6635-MYYYZ    1\n",
      "6635-CPNUN    1\n",
      "             ..\n",
      "3374-TTZTK    1\n",
      "3374-PZLXD    1\n",
      "3374-LXDEV    1\n",
      "3373-YZZYM    1\n",
      "9995-HOTOH    1\n",
      "Name: count, Length: 7267, dtype: int64\n",
      "\n",
      "Churn:\n",
      "Churn\n",
      "No     5174\n",
      "Yes    1869\n",
      "        224\n",
      "Name: count, dtype: int64\n",
      "\n",
      "gender:\n",
      "gender\n",
      "Male      3675\n",
      "Female    3592\n",
      "Name: count, dtype: int64\n",
      "\n",
      "Partner:\n",
      "Partner\n",
      "No     3749\n",
      "Yes    3518\n",
      "Name: count, dtype: int64\n",
      "\n",
      "Dependents:\n",
      "Dependents\n",
      "No     5086\n",
      "Yes    2181\n",
      "Name: count, dtype: int64\n",
      "\n",
      "PhoneService:\n",
      "PhoneService\n",
      "Yes    6560\n",
      "No      707\n",
      "Name: count, dtype: int64\n",
      "\n",
      "MultipleLines:\n",
      "MultipleLines\n",
      "No                  3495\n",
      "Yes                 3065\n",
      "No phone service     707\n",
      "Name: count, dtype: int64\n",
      "\n",
      "InternetService:\n",
      "InternetService\n",
      "Fiber optic    3198\n",
      "DSL            2488\n",
      "No             1581\n",
      "Name: count, dtype: int64\n",
      "\n",
      "OnlineSecurity:\n",
      "OnlineSecurity\n",
      "No                     3608\n",
      "Yes                    2078\n",
      "No internet service    1581\n",
      "Name: count, dtype: int64\n",
      "\n",
      "OnlineBackup:\n",
      "OnlineBackup\n",
      "No                     3182\n",
      "Yes                    2504\n",
      "No internet service    1581\n",
      "Name: count, dtype: int64\n",
      "\n",
      "DeviceProtection:\n",
      "DeviceProtection\n",
      "No                     3195\n",
      "Yes                    2491\n",
      "No internet service    1581\n",
      "Name: count, dtype: int64\n",
      "\n",
      "TechSupport:\n",
      "TechSupport\n",
      "No                     3582\n",
      "Yes                    2104\n",
      "No internet service    1581\n",
      "Name: count, dtype: int64\n",
      "\n",
      "StreamingTV:\n",
      "StreamingTV\n",
      "No                     2896\n",
      "Yes                    2790\n",
      "No internet service    1581\n",
      "Name: count, dtype: int64\n",
      "\n",
      "StreamingMovies:\n",
      "StreamingMovies\n",
      "No                     2870\n",
      "Yes                    2816\n",
      "No internet service    1581\n",
      "Name: count, dtype: int64\n",
      "\n",
      "Contract:\n",
      "Contract\n",
      "Month-to-month    4005\n",
      "Two year          1743\n",
      "One year          1519\n",
      "Name: count, dtype: int64\n",
      "\n",
      "PaperlessBilling:\n",
      "PaperlessBilling\n",
      "Yes    4311\n",
      "No     2956\n",
      "Name: count, dtype: int64\n",
      "\n",
      "PaymentMethod:\n",
      "PaymentMethod\n",
      "Electronic check             2445\n",
      "Mailed check                 1665\n",
      "Bank transfer (automatic)    1589\n",
      "Credit card (automatic)      1568\n",
      "Name: count, dtype: int64\n",
      "\n",
      "Charges.Total:\n",
      "Charges.Total\n",
      "           11\n",
      "20.2       11\n",
      "19.55       9\n",
      "19.75       9\n",
      "19.9        9\n",
      "           ..\n",
      "264.85      1\n",
      "264.55      1\n",
      "2638.1      1\n",
      "2636.05     1\n",
      "999.9       1\n",
      "Name: count, Length: 6531, dtype: int64\n"
     ]
    }
   ],
   "source": [
    "# Análise descritiva das variáveis numéricas\n",
    "print(\"Análise descritiva das variáveis numéricas:\")\n",
    "print(df.describe())\n",
    "\n",
    "# Contagem de valores nas variáveis categóricas\n",
    "print(\"\\nDistribuição das variáveis categóricas:\")\n",
    "for col in df.select_dtypes(['category']).columns:\n",
    "    print(f\"\\n{col}:\")\n",
    "    print(df[col].value_counts())"
   ]
  },
  {
   "cell_type": "markdown",
   "id": "9c4703a5",
   "metadata": {},
   "source": [
    "## 7. Análise de Evasão\n",
    "Visualizando a distribuição de churn."
   ]
  },
  {
   "cell_type": "code",
   "execution_count": 15,
   "id": "d7ab2c74",
   "metadata": {},
   "outputs": [
    {
     "data": {
      "image/png": "[encoded data removed]",
      "text/plain": [
       "<Figure size 800x600 with 1 Axes>"
      ]
     },
     "metadata": {},
     "output_type": "display_data"
    },
    {
     "name": "stdout",
     "output_type": "stream",
     "text": [
      "\n",
      "Percentual de Churn:\n",
      "Churn\n",
      "No     71.198569\n",
      "Yes    25.719004\n",
      "        3.082427\n",
      "Name: proportion, dtype: float64\n"
     ]
    }
   ],
   "source": [
    "# Distribuição de Churn\n",
    "plt.figure(figsize=(8, 6))\n",
    "sns.countplot(data=df, x='Churn')\n",
    "plt.title('Distribuição de Churn')\n",
    "plt.show()\n",
    "\n",
    "# Percentual de Churn\n",
    "print(\"\\nPercentual de Churn:\")\n",
    "print(df['Churn'].value_counts(normalize=True) * 100)"
   ]
  },
  {
   "cell_type": "markdown",
   "id": "6db5c241",
   "metadata": {},
   "source": [
    "## 8. Visualizações por Categorias\n",
    "Analisando a relação entre variáveis categóricas e churn."
   ]
  },
  {
   "cell_type": "code",
   "execution_count": 17,
   "id": "055aa9d6",
   "metadata": {},
   "outputs": [
    {
     "data": {
      "image/png": "[encoded data removed]",
      "text/plain": [
       "<Figure size 1800x600 with 3 Axes>"
      ]
     },
     "metadata": {},
     "output_type": "display_data"
    }
   ],
   "source": [
    "# Criando visualizações para variáveis categóricas\n",
    "cat_vars = ['gender', 'Contract', 'PaymentMethod']\n",
    "\n",
    "fig, axes = plt.subplots(1, 3, figsize=(18, 6))\n",
    "for i, var in enumerate(cat_vars):\n",
    "    sns.countplot(data=df, x=var, hue='Churn', ax=axes[i])\n",
    "    axes[i].set_title(f'Churn por {var}')\n",
    "    axes[i].tick_params(axis='x', rotation=45)\n",
    "plt.tight_layout()\n",
    "plt.show()"
   ]
  },
  {
   "cell_type": "markdown",
   "id": "bed080fe",
   "metadata": {},
   "source": [
    "## 9. Análise de Correlações\n",
    "Verificando correlações entre variáveis numéricas."
   ]
  },
  {
   "cell_type": "code",
   "execution_count": 18,
   "id": "11f28f9f",
   "metadata": {},
   "outputs": [
    {
     "data": {
      "image/png": "[encoded data removed]",
      "text/plain": [
       "<Figure size 1000x800 with 2 Axes>"
      ]
     },
     "metadata": {},
     "output_type": "display_data"
    }
   ],
   "source": [
    "# Selecionando apenas variáveis numéricas\n",
    "num_vars = df.select_dtypes(include=['float64', 'int64']).columns\n",
    "\n",
    "# Criando matriz de correlação\n",
    "plt.figure(figsize=(10, 8))\n",
    "sns.heatmap(df[num_vars].corr(), annot=True, cmap='coolwarm', center=0)\n",
    "plt.title('Matriz de Correlação - Variáveis Numéricas')\n",
    "plt.show()"
   ]
  },
  {
   "cell_type": "markdown",
   "id": "abf662ae",
   "metadata": {},
   "source": [
    "# Relatório Final"
   ]
  },
  {
   "cell_type": "markdown",
   "id": "c31fac22",
   "metadata": {},
   "source": [
    "## 1. Introdução\n",
    "Este estudo teve como objetivo analisar os padrões de evasão (churn) dos clientes da TelecomX, visando identificar fatores que contribuem para a saída de clientes e propor estratégias de retenção.\n",
    "\n",
    "## 2. Limpeza e Tratamento de Dados\n",
    "- Importação dos dados via API JSON\n",
    "- Normalização das colunas aninhadas (customer, phone, internet, account)\n",
    "- Remoção de duplicatas\n",
    "- Conversão apropriada dos tipos de dados\n",
    "- Criação da coluna de custos diários\n",
    "\n",
    "## 3. Análise Exploratória\n",
    "\n",
    "### 3.1 Visão Geral\n",
    "- **Taxa de Evasão**: 25.72% dos clientes cancelaram o serviço\n",
    "- **Taxa de Retenção**: 71.20% permaneceram como clientes\n",
    "\n",
    "### 3.2 Perfil dos Clientes\n",
    "- Tempo médio de permanência: 32.3 meses\n",
    "- Valor médio da conta mensal: R$ 64.72\n",
    "- 16.3% são clientes idosos\n",
    "\n",
    "### 3.3 Distribuição de Serviços\n",
    "**Internet:**\n",
    "- Fibra Ótica: 44.0%\n",
    "- DSL: 34.2%\n",
    "- Sem Internet: 21.8%\n",
    "\n",
    "**Contratos:**\n",
    "- Mensal: 55.1%\n",
    "- Dois Anos: 24.0%\n",
    "- Um Ano: 20.9%\n",
    "\n",
    "## 4. Conclusões e Insights\n",
    "1. A taxa de evasão de 25.72% é considerada alta para o setor\n",
    "2. Mais da metade dos clientes (55.1%) opta por contratos mensais\n",
    "3. Fibra ótica é o serviço de internet mais popular\n",
    "4. O tempo médio de permanência indica base de clientes relativamente estável\n",
    "\n",
    "## 5. Recomendações\n",
    "1. **Incentivo a Contratos Longos**: Desenvolver programas de fidelidade para migração de contratos mensais para anuais\n",
    "2. **Foco em Retenção**: Criar estratégias específicas para clientes nos primeiros 32 meses\n",
    "3. **Segmentação por Idade**: Desenvolver pacotes específicos para o público idoso\n",
    "4. **Qualidade do Serviço**: Priorizar a manutenção da qualidade da fibra ótica\n",
    "5. **Precificação Estratégica**: Avaliar a política de preços considerando o ticket médio de R$ 64.72\n",
    "\n",
    "## 6. Próximos Passos\n",
    "- Implementar sistema de alerta precoce para clientes com alto risco de evasão\n",
    "- Desenvolver modelos preditivos de churn\n",
    "- Realizar pesquisas qualitativas com clientes que cancelaram o serviço"
   ]
  }
 ],
 "metadata": {
  "kernelspec": {
   "display_name": "Python 3",
   "language": "python",
   "name": "python3"
  },
  "language_info": {
   "codemirror_mode": {
    "name": "ipython",
    "version": 3
   },
   "file_extension": ".py",
   "mimetype": "text/x-python",
   "name": "python",
   "nbconvert_exporter": "python",
   "pygments_lexer": "ipython3",
   "version": "3.13.3"
  }
 },
 "nbformat": 4,
 "nbformat_minor": 5
}
